{
 "cells": [
  {
   "cell_type": "markdown",
   "id": "3Xg_RQfnafXz",
   "metadata": {
    "id": "3Xg_RQfnafXz"
   },
   "source": [
    "# ¡Llena ese carrito!"
   ]
  },
  {
   "cell_type": "markdown",
   "id": "mhIvmmkW414q",
   "metadata": {
    "id": "mhIvmmkW414q"
   },
   "source": [
    "# Introducción\n",
    "\n",
    "Instacart es una plataforma de entregas de comestibles donde la clientela puede registrar un pedido y hacer que se lo entreguen, similar a Uber Eats y Door Dash.\n",
    "El conjunto de datos que te hemos proporcionado tiene modificaciones del original. Redujimos el tamaño del conjunto para que tus cálculos se hicieran más rápido e introdujimos valores ausentes y duplicados. Tuvimos cuidado de conservar las distribuciones de los datos originales cuando hicimos los cambios.\n",
    "\n",
    "Debes completar tres pasos. Para cada uno de ellos, escribe una breve introducción que refleje con claridad cómo pretendes resolver cada paso, y escribe párrafos explicatorios que justifiquen tus decisiones al tiempo que avanzas en tu solución.  También escribe una conclusión que resuma tus hallazgos y elecciones.\n"
   ]
  },
  {
   "cell_type": "markdown",
   "id": "3MbyzpOQZ5Or",
   "metadata": {
    "id": "3MbyzpOQZ5Or"
   },
   "source": [
    "## Diccionario de datos\n",
    "\n",
    "Hay cinco tablas en el conjunto de datos, y tendrás que usarlas todas para hacer el preprocesamiento de datos y el análisis exploratorio de datos. A continuación se muestra un diccionario de datos que enumera las columnas de cada tabla y describe los datos que contienen.\n",
    "\n",
    "- `instacart_orders.csv`: cada fila corresponde a un pedido en la aplicación Instacart.\n",
    "    - `'order_id'`: número de ID que identifica de manera única cada pedido.\n",
    "    - `'user_id'`: número de ID que identifica de manera única la cuenta de cada cliente.\n",
    "    - `'order_number'`: el número de veces que este cliente ha hecho un pedido.\n",
    "    - `'order_dow'`: día de la semana en que se hizo el pedido (0 si es domingo).\n",
    "    - `'order_hour_of_day'`: hora del día en que se hizo el pedido.\n",
    "    - `'days_since_prior_order'`: número de días transcurridos desde que este cliente hizo su pedido anterior.\n",
    "- `products.csv`: cada fila corresponde a un producto único que pueden comprar los clientes.\n",
    "    - `'product_id'`: número ID que identifica de manera única cada producto.\n",
    "    - `'product_name'`: nombre del producto.\n",
    "    - `'aisle_id'`: número ID que identifica de manera única cada categoría de pasillo de víveres.\n",
    "    - `'department_id'`: número ID que identifica de manera única cada departamento de víveres.\n",
    "- `order_products.csv`: cada fila corresponde a un artículo pedido en un pedido.\n",
    "    - `'order_id'`: número de ID que identifica de manera única cada pedido.\n",
    "    - `'product_id'`: número ID que identifica de manera única cada producto.\n",
    "    - `'add_to_cart_order'`: el orden secuencial en el que se añadió cada artículo en el carrito.\n",
    "    - `'reordered'`: 0 si el cliente nunca ha pedido este producto antes, 1 si lo ha pedido.\n",
    "- `aisles.csv`\n",
    "    - `'aisle_id'`: número ID que identifica de manera única cada categoría de pasillo de víveres.\n",
    "    - `'aisle'`: nombre del pasillo.\n",
    "- `departments.csv`\n",
    "    - `'department_id'`: número ID que identifica de manera única cada departamento de víveres.\n",
    "    - `'department'`: nombre del departamento."
   ]
  },
  {
   "cell_type": "markdown",
   "id": "n3Ha_cNSZ8lK",
   "metadata": {
    "id": "n3Ha_cNSZ8lK"
   },
   "source": [
    "# Paso 1. Descripción de los datos\n",
    "\n",
    "Lee los archivos de datos (`/datasets/instacart_orders.csv`, `/datasets/products.csv`, `/datasets/aisles.csv`, `/datasets/departments.csv` y `/datasets/order_products.csv`) con `pd.read_csv()` usando los parámetros adecuados para leer los datos correctamente. Verifica la información para cada DataFrame creado.\n"
   ]
  },
  {
   "cell_type": "markdown",
   "id": "OmlQPLlyaAfR",
   "metadata": {
    "id": "OmlQPLlyaAfR"
   },
   "source": [
    "## Plan de solución\n",
    "\n",
    "Escribe aquí tu plan de solución para el Paso 1. Descripción de los datos."
   ]
  },
  {
   "cell_type": "code",
   "execution_count": 69,
   "id": "fbf1adab",
   "metadata": {
    "id": "fbf1adab"
   },
   "outputs": [],
   "source": [
    "# importar librerías\n",
    "import pandas as pd\n",
    "import matplotlib.pyplot as plt"
   ]
  },
  {
   "cell_type": "code",
   "execution_count": 70,
   "id": "ad36396d",
   "metadata": {
    "id": "ad36396d"
   },
   "outputs": [],
   "source": [
    "# Cargar los DataFrames nuevamente con el delimitador correcto\n",
    "df_orders = pd.read_csv('/datasets/instacart_orders.csv', delimiter=';')\n",
    "df_products = pd.read_csv('/datasets/products.csv', delimiter=';')\n",
    "df_order_products = pd.read_csv('/datasets/order_products.csv', delimiter=';')\n",
    "df_aisles = pd.read_csv('/datasets/aisles.csv', delimiter=';')\n",
    "df_departments = pd.read_csv('/datasets/departments.csv', delimiter=';')"
   ]
  },
  {
   "cell_type": "code",
   "execution_count": 71,
   "id": "ad6a1efa",
   "metadata": {
    "id": "ad6a1efa"
   },
   "outputs": [
    {
     "name": "stdout",
     "output_type": "stream",
     "text": [
      "Información de df_orders:\n",
      "<class 'pandas.core.frame.DataFrame'>\n",
      "RangeIndex: 478967 entries, 0 to 478966\n",
      "Data columns (total 6 columns):\n",
      " #   Column                  Non-Null Count   Dtype  \n",
      "---  ------                  --------------   -----  \n",
      " 0   order_id                478967 non-null  int64  \n",
      " 1   user_id                 478967 non-null  int64  \n",
      " 2   order_number            478967 non-null  int64  \n",
      " 3   order_dow               478967 non-null  int64  \n",
      " 4   order_hour_of_day       478967 non-null  int64  \n",
      " 5   days_since_prior_order  450148 non-null  float64\n",
      "dtypes: float64(1), int64(5)\n",
      "memory usage: 21.9 MB\n",
      "None\n"
     ]
    },
    {
     "data": {
      "text/html": [
       "<div>\n",
       "<style scoped>\n",
       "    .dataframe tbody tr th:only-of-type {\n",
       "        vertical-align: middle;\n",
       "    }\n",
       "\n",
       "    .dataframe tbody tr th {\n",
       "        vertical-align: top;\n",
       "    }\n",
       "\n",
       "    .dataframe thead th {\n",
       "        text-align: right;\n",
       "    }\n",
       "</style>\n",
       "<table border=\"1\" class=\"dataframe\">\n",
       "  <thead>\n",
       "    <tr style=\"text-align: right;\">\n",
       "      <th></th>\n",
       "      <th>order_id</th>\n",
       "      <th>user_id</th>\n",
       "      <th>order_number</th>\n",
       "      <th>order_dow</th>\n",
       "      <th>order_hour_of_day</th>\n",
       "      <th>days_since_prior_order</th>\n",
       "    </tr>\n",
       "  </thead>\n",
       "  <tbody>\n",
       "    <tr>\n",
       "      <th>150518</th>\n",
       "      <td>1710539</td>\n",
       "      <td>170620</td>\n",
       "      <td>5</td>\n",
       "      <td>6</td>\n",
       "      <td>10</td>\n",
       "      <td>30.0</td>\n",
       "    </tr>\n",
       "    <tr>\n",
       "      <th>22430</th>\n",
       "      <td>2753135</td>\n",
       "      <td>96396</td>\n",
       "      <td>6</td>\n",
       "      <td>3</td>\n",
       "      <td>10</td>\n",
       "      <td>9.0</td>\n",
       "    </tr>\n",
       "    <tr>\n",
       "      <th>426388</th>\n",
       "      <td>3150809</td>\n",
       "      <td>26444</td>\n",
       "      <td>15</td>\n",
       "      <td>2</td>\n",
       "      <td>12</td>\n",
       "      <td>18.0</td>\n",
       "    </tr>\n",
       "    <tr>\n",
       "      <th>372514</th>\n",
       "      <td>744284</td>\n",
       "      <td>169495</td>\n",
       "      <td>19</td>\n",
       "      <td>1</td>\n",
       "      <td>13</td>\n",
       "      <td>8.0</td>\n",
       "    </tr>\n",
       "    <tr>\n",
       "      <th>414036</th>\n",
       "      <td>3302199</td>\n",
       "      <td>86900</td>\n",
       "      <td>10</td>\n",
       "      <td>5</td>\n",
       "      <td>14</td>\n",
       "      <td>3.0</td>\n",
       "    </tr>\n",
       "    <tr>\n",
       "      <th>233535</th>\n",
       "      <td>1881854</td>\n",
       "      <td>101189</td>\n",
       "      <td>6</td>\n",
       "      <td>4</td>\n",
       "      <td>17</td>\n",
       "      <td>7.0</td>\n",
       "    </tr>\n",
       "  </tbody>\n",
       "</table>\n",
       "</div>"
      ],
      "text/plain": [
       "        order_id  user_id  order_number  order_dow  order_hour_of_day  \\\n",
       "150518   1710539   170620             5          6                 10   \n",
       "22430    2753135    96396             6          3                 10   \n",
       "426388   3150809    26444            15          2                 12   \n",
       "372514    744284   169495            19          1                 13   \n",
       "414036   3302199    86900            10          5                 14   \n",
       "233535   1881854   101189             6          4                 17   \n",
       "\n",
       "        days_since_prior_order  \n",
       "150518                    30.0  \n",
       "22430                      9.0  \n",
       "426388                    18.0  \n",
       "372514                     8.0  \n",
       "414036                     3.0  \n",
       "233535                     7.0  "
      ]
     },
     "metadata": {},
     "output_type": "display_data"
    }
   ],
   "source": [
    "# mostrar información del DataFrame df_oders\n",
    "print(\"Información de df_orders:\")\n",
    "print(df_orders.info())\n",
    "\n",
    "display(df_orders.sample(6))"
   ]
  },
  {
   "cell_type": "code",
   "execution_count": 72,
   "id": "5130e05e",
   "metadata": {
    "id": "5130e05e"
   },
   "outputs": [
    {
     "name": "stdout",
     "output_type": "stream",
     "text": [
      "\n",
      "Información de df_products:\n",
      "<class 'pandas.core.frame.DataFrame'>\n",
      "RangeIndex: 49694 entries, 0 to 49693\n",
      "Data columns (total 4 columns):\n",
      " #   Column         Non-Null Count  Dtype \n",
      "---  ------         --------------  ----- \n",
      " 0   product_id     49694 non-null  int64 \n",
      " 1   product_name   48436 non-null  object\n",
      " 2   aisle_id       49694 non-null  int64 \n",
      " 3   department_id  49694 non-null  int64 \n",
      "dtypes: int64(3), object(1)\n",
      "memory usage: 1.5+ MB\n",
      "None\n"
     ]
    },
    {
     "data": {
      "text/html": [
       "<div>\n",
       "<style scoped>\n",
       "    .dataframe tbody tr th:only-of-type {\n",
       "        vertical-align: middle;\n",
       "    }\n",
       "\n",
       "    .dataframe tbody tr th {\n",
       "        vertical-align: top;\n",
       "    }\n",
       "\n",
       "    .dataframe thead th {\n",
       "        text-align: right;\n",
       "    }\n",
       "</style>\n",
       "<table border=\"1\" class=\"dataframe\">\n",
       "  <thead>\n",
       "    <tr style=\"text-align: right;\">\n",
       "      <th></th>\n",
       "      <th>product_id</th>\n",
       "      <th>product_name</th>\n",
       "      <th>aisle_id</th>\n",
       "      <th>department_id</th>\n",
       "    </tr>\n",
       "  </thead>\n",
       "  <tbody>\n",
       "    <tr>\n",
       "      <th>26731</th>\n",
       "      <td>26732</td>\n",
       "      <td>B-Complex 100 Vegetarian Capsules</td>\n",
       "      <td>47</td>\n",
       "      <td>11</td>\n",
       "    </tr>\n",
       "    <tr>\n",
       "      <th>4665</th>\n",
       "      <td>4666</td>\n",
       "      <td>Large Shin Dog Bone</td>\n",
       "      <td>40</td>\n",
       "      <td>8</td>\n",
       "    </tr>\n",
       "    <tr>\n",
       "      <th>39525</th>\n",
       "      <td>39526</td>\n",
       "      <td>Hickory Smoked BBQ Dippin' Sauce</td>\n",
       "      <td>5</td>\n",
       "      <td>13</td>\n",
       "    </tr>\n",
       "    <tr>\n",
       "      <th>10493</th>\n",
       "      <td>10494</td>\n",
       "      <td>Original Gluten Free Breadcrumbs</td>\n",
       "      <td>5</td>\n",
       "      <td>13</td>\n",
       "    </tr>\n",
       "    <tr>\n",
       "      <th>6416</th>\n",
       "      <td>6417</td>\n",
       "      <td>Black Elderberry</td>\n",
       "      <td>47</td>\n",
       "      <td>11</td>\n",
       "    </tr>\n",
       "    <tr>\n",
       "      <th>5448</th>\n",
       "      <td>5449</td>\n",
       "      <td>Margherita Pizza</td>\n",
       "      <td>79</td>\n",
       "      <td>1</td>\n",
       "    </tr>\n",
       "  </tbody>\n",
       "</table>\n",
       "</div>"
      ],
      "text/plain": [
       "       product_id                       product_name  aisle_id  department_id\n",
       "26731       26732  B-Complex 100 Vegetarian Capsules        47             11\n",
       "4665         4666                Large Shin Dog Bone        40              8\n",
       "39525       39526   Hickory Smoked BBQ Dippin' Sauce         5             13\n",
       "10493       10494   Original Gluten Free Breadcrumbs         5             13\n",
       "6416         6417                   Black Elderberry        47             11\n",
       "5448         5449                   Margherita Pizza        79              1"
      ]
     },
     "metadata": {},
     "output_type": "display_data"
    }
   ],
   "source": [
    "# mostrar información del DataFrame df_products\n",
    "print(\"\\nInformación de df_products:\")\n",
    "print(df_products.info())\n",
    "\n",
    "display(df_products.sample(6))"
   ]
  },
  {
   "cell_type": "code",
   "execution_count": 73,
   "id": "d8370c05",
   "metadata": {
    "id": "d8370c05"
   },
   "outputs": [
    {
     "name": "stdout",
     "output_type": "stream",
     "text": [
      "\n",
      "Información de df_order_products:\n",
      "<class 'pandas.core.frame.DataFrame'>\n",
      "RangeIndex: 4545007 entries, 0 to 4545006\n",
      "Data columns (total 4 columns):\n",
      " #   Column             Dtype  \n",
      "---  ------             -----  \n",
      " 0   order_id           int64  \n",
      " 1   product_id         int64  \n",
      " 2   add_to_cart_order  float64\n",
      " 3   reordered          int64  \n",
      "dtypes: float64(1), int64(3)\n",
      "memory usage: 138.7 MB\n",
      "None\n"
     ]
    },
    {
     "data": {
      "text/html": [
       "<div>\n",
       "<style scoped>\n",
       "    .dataframe tbody tr th:only-of-type {\n",
       "        vertical-align: middle;\n",
       "    }\n",
       "\n",
       "    .dataframe tbody tr th {\n",
       "        vertical-align: top;\n",
       "    }\n",
       "\n",
       "    .dataframe thead th {\n",
       "        text-align: right;\n",
       "    }\n",
       "</style>\n",
       "<table border=\"1\" class=\"dataframe\">\n",
       "  <thead>\n",
       "    <tr style=\"text-align: right;\">\n",
       "      <th></th>\n",
       "      <th>order_id</th>\n",
       "      <th>product_id</th>\n",
       "      <th>add_to_cart_order</th>\n",
       "      <th>reordered</th>\n",
       "    </tr>\n",
       "  </thead>\n",
       "  <tbody>\n",
       "    <tr>\n",
       "      <th>3198063</th>\n",
       "      <td>1285181</td>\n",
       "      <td>37218</td>\n",
       "      <td>15.0</td>\n",
       "      <td>0</td>\n",
       "    </tr>\n",
       "    <tr>\n",
       "      <th>1845163</th>\n",
       "      <td>1474448</td>\n",
       "      <td>48697</td>\n",
       "      <td>4.0</td>\n",
       "      <td>0</td>\n",
       "    </tr>\n",
       "    <tr>\n",
       "      <th>520983</th>\n",
       "      <td>147510</td>\n",
       "      <td>26315</td>\n",
       "      <td>32.0</td>\n",
       "      <td>1</td>\n",
       "    </tr>\n",
       "    <tr>\n",
       "      <th>3523209</th>\n",
       "      <td>1412406</td>\n",
       "      <td>35725</td>\n",
       "      <td>19.0</td>\n",
       "      <td>0</td>\n",
       "    </tr>\n",
       "    <tr>\n",
       "      <th>2240739</th>\n",
       "      <td>900526</td>\n",
       "      <td>20754</td>\n",
       "      <td>3.0</td>\n",
       "      <td>0</td>\n",
       "    </tr>\n",
       "    <tr>\n",
       "      <th>424220</th>\n",
       "      <td>2734753</td>\n",
       "      <td>43352</td>\n",
       "      <td>6.0</td>\n",
       "      <td>0</td>\n",
       "    </tr>\n",
       "  </tbody>\n",
       "</table>\n",
       "</div>"
      ],
      "text/plain": [
       "         order_id  product_id  add_to_cart_order  reordered\n",
       "3198063   1285181       37218               15.0          0\n",
       "1845163   1474448       48697                4.0          0\n",
       "520983     147510       26315               32.0          1\n",
       "3523209   1412406       35725               19.0          0\n",
       "2240739    900526       20754                3.0          0\n",
       "424220    2734753       43352                6.0          0"
      ]
     },
     "metadata": {},
     "output_type": "display_data"
    }
   ],
   "source": [
    "# mostrar información del DataFrame df_order_products\n",
    "print(\"\\nInformación de df_order_products:\")\n",
    "print(df_order_products.info())\n",
    "\n",
    "display(df_order_products.sample(6))"
   ]
  },
  {
   "cell_type": "code",
   "execution_count": 74,
   "id": "59e2090f",
   "metadata": {
    "id": "59e2090f"
   },
   "outputs": [
    {
     "name": "stdout",
     "output_type": "stream",
     "text": [
      "\n",
      "Información de df_aisles:\n",
      "<class 'pandas.core.frame.DataFrame'>\n",
      "RangeIndex: 134 entries, 0 to 133\n",
      "Data columns (total 2 columns):\n",
      " #   Column    Non-Null Count  Dtype \n",
      "---  ------    --------------  ----- \n",
      " 0   aisle_id  134 non-null    int64 \n",
      " 1   aisle     134 non-null    object\n",
      "dtypes: int64(1), object(1)\n",
      "memory usage: 2.2+ KB\n",
      "None\n"
     ]
    },
    {
     "data": {
      "text/html": [
       "<div>\n",
       "<style scoped>\n",
       "    .dataframe tbody tr th:only-of-type {\n",
       "        vertical-align: middle;\n",
       "    }\n",
       "\n",
       "    .dataframe tbody tr th {\n",
       "        vertical-align: top;\n",
       "    }\n",
       "\n",
       "    .dataframe thead th {\n",
       "        text-align: right;\n",
       "    }\n",
       "</style>\n",
       "<table border=\"1\" class=\"dataframe\">\n",
       "  <thead>\n",
       "    <tr style=\"text-align: right;\">\n",
       "      <th></th>\n",
       "      <th>aisle_id</th>\n",
       "      <th>aisle</th>\n",
       "    </tr>\n",
       "  </thead>\n",
       "  <tbody>\n",
       "    <tr>\n",
       "      <th>123</th>\n",
       "      <td>124</td>\n",
       "      <td>spirits</td>\n",
       "    </tr>\n",
       "    <tr>\n",
       "      <th>43</th>\n",
       "      <td>44</td>\n",
       "      <td>eye ear care</td>\n",
       "    </tr>\n",
       "    <tr>\n",
       "      <th>53</th>\n",
       "      <td>54</td>\n",
       "      <td>paper goods</td>\n",
       "    </tr>\n",
       "    <tr>\n",
       "      <th>131</th>\n",
       "      <td>132</td>\n",
       "      <td>beauty</td>\n",
       "    </tr>\n",
       "    <tr>\n",
       "      <th>91</th>\n",
       "      <td>92</td>\n",
       "      <td>baby food formula</td>\n",
       "    </tr>\n",
       "    <tr>\n",
       "      <th>122</th>\n",
       "      <td>123</td>\n",
       "      <td>packaged vegetables fruits</td>\n",
       "    </tr>\n",
       "  </tbody>\n",
       "</table>\n",
       "</div>"
      ],
      "text/plain": [
       "     aisle_id                       aisle\n",
       "123       124                     spirits\n",
       "43         44                eye ear care\n",
       "53         54                 paper goods\n",
       "131       132                      beauty\n",
       "91         92           baby food formula\n",
       "122       123  packaged vegetables fruits"
      ]
     },
     "metadata": {},
     "output_type": "display_data"
    }
   ],
   "source": [
    "# mostrar información del DataFrame df_aisles\n",
    "print(\"\\nInformación de df_aisles:\")\n",
    "print(df_aisles.info())\n",
    "\n",
    "display(df_aisles.sample(6))"
   ]
  },
  {
   "cell_type": "code",
   "execution_count": 75,
   "id": "6fc81694",
   "metadata": {
    "id": "6fc81694"
   },
   "outputs": [
    {
     "name": "stdout",
     "output_type": "stream",
     "text": [
      "\n",
      "Información de df_departments:\n",
      "<class 'pandas.core.frame.DataFrame'>\n",
      "RangeIndex: 21 entries, 0 to 20\n",
      "Data columns (total 2 columns):\n",
      " #   Column         Non-Null Count  Dtype \n",
      "---  ------         --------------  ----- \n",
      " 0   department_id  21 non-null     int64 \n",
      " 1   department     21 non-null     object\n",
      "dtypes: int64(1), object(1)\n",
      "memory usage: 464.0+ bytes\n",
      "None\n"
     ]
    },
    {
     "data": {
      "text/html": [
       "<div>\n",
       "<style scoped>\n",
       "    .dataframe tbody tr th:only-of-type {\n",
       "        vertical-align: middle;\n",
       "    }\n",
       "\n",
       "    .dataframe tbody tr th {\n",
       "        vertical-align: top;\n",
       "    }\n",
       "\n",
       "    .dataframe thead th {\n",
       "        text-align: right;\n",
       "    }\n",
       "</style>\n",
       "<table border=\"1\" class=\"dataframe\">\n",
       "  <thead>\n",
       "    <tr style=\"text-align: right;\">\n",
       "      <th></th>\n",
       "      <th>department_id</th>\n",
       "      <th>department</th>\n",
       "    </tr>\n",
       "  </thead>\n",
       "  <tbody>\n",
       "    <tr>\n",
       "      <th>2</th>\n",
       "      <td>3</td>\n",
       "      <td>bakery</td>\n",
       "    </tr>\n",
       "    <tr>\n",
       "      <th>9</th>\n",
       "      <td>10</td>\n",
       "      <td>bulk</td>\n",
       "    </tr>\n",
       "    <tr>\n",
       "      <th>19</th>\n",
       "      <td>20</td>\n",
       "      <td>deli</td>\n",
       "    </tr>\n",
       "    <tr>\n",
       "      <th>15</th>\n",
       "      <td>16</td>\n",
       "      <td>dairy eggs</td>\n",
       "    </tr>\n",
       "    <tr>\n",
       "      <th>10</th>\n",
       "      <td>11</td>\n",
       "      <td>personal care</td>\n",
       "    </tr>\n",
       "    <tr>\n",
       "      <th>1</th>\n",
       "      <td>2</td>\n",
       "      <td>other</td>\n",
       "    </tr>\n",
       "  </tbody>\n",
       "</table>\n",
       "</div>"
      ],
      "text/plain": [
       "    department_id     department\n",
       "2               3         bakery\n",
       "9              10           bulk\n",
       "19             20           deli\n",
       "15             16     dairy eggs\n",
       "10             11  personal care\n",
       "1               2          other"
      ]
     },
     "metadata": {},
     "output_type": "display_data"
    }
   ],
   "source": [
    "# mostrar información del DataFrame df_departments\n",
    "print(\"\\nInformación de df_departments:\")\n",
    "print(df_departments.info())\n",
    "\n",
    "display(df_departments.sample(6))"
   ]
  },
  {
   "cell_type": "markdown",
   "id": "t75BD19oaR5f",
   "metadata": {
    "id": "t75BD19oaR5f"
   },
   "source": [
    "## Conclusiones\n",
    "\n",
    "Escribe aquí tus conclusiones intermedias sobre el Paso 1. Descripción de los datos.\n"
   ]
  },
  {
   "cell_type": "markdown",
   "id": "1080b673",
   "metadata": {},
   "source": [
    "Los DataFrames proporcionan información detallada sobre pedidos, productos, productos ordenados, pasillos y departamentos en un formato tabular. En df_orders, se encuentran datos clave como 'user_id', 'order_number', 'order_dow', 'order_hour_of_day' y 'days_since_prior_order'. El mismo formato se observa en df_products, df_order_products, df_aisles y df_departments, donde las columnas, tales como 'product_id', 'aisle_id' y 'department_id', son esenciales para entender la relación entre productos, pasillos y departamentos. Sin embargo, se destaca que las columnas en estos DataFrames estaban separadas por punto y coma en lugar de comas, por tanto se ajustó la lectura con el verificador (delimiter=';') para cargar los DataFrames con los datos separados.\n",
    "\n"
   ]
  },
  {
   "cell_type": "markdown",
   "id": "8RJHqxVmaVsF",
   "metadata": {
    "id": "8RJHqxVmaVsF"
   },
   "source": [
    "# Paso 2. Preprocesamiento de los datos\n",
    "\n",
    "Preprocesa los datos de la siguiente manera:\n",
    "\n",
    "- Verifica y corrige los tipos de datos (por ejemplo, asegúrate de que las columnas de ID sean números enteros).\n",
    "- Identifica y completa los valores ausentes.\n",
    "- Identifica y elimina los valores duplicados.\n",
    "\n",
    "Asegúrate de explicar qué tipos de valores ausentes y duplicados encontraste, cómo los completaste o eliminaste y por qué usaste esos métodos. ¿Por qué crees que estos valores ausentes y duplicados pueden haber estado presentes en el conjunto de datos?"
   ]
  },
  {
   "cell_type": "markdown",
   "id": "p6poABZQaZYb",
   "metadata": {
    "id": "p6poABZQaZYb"
   },
   "source": [
    "## Plan de solución\n",
    "\n",
    "Escribe aquí tu plan para el Paso 2. Preprocesamiento de los datos."
   ]
  },
  {
   "cell_type": "markdown",
   "id": "5e806b3c",
   "metadata": {},
   "source": [
    "- Verificar y corregir tipos de datos:\n",
    "\n",
    "    - df_orders:\n",
    "        - Verificar que las columnas 'order_id', 'user_id', 'order_number', 'order_dow', y 'order_hour_of_day' sean de tipo numérico adecuado (preferiblemente enteros).\n",
    "        - Convertir las columnas mencionadas a tipos numéricos si es necesario.\n",
    "\n",
    "    - df_products:\n",
    "        - Verificar que las columnas 'product_id', 'aisle_id', y 'department_id' sean de tipo numérico adecuado.\n",
    "        - Convertir las columnas mencionadas a tipos numéricos si es necesario.\n",
    "\n",
    "    - df_order_products:\n",
    "        - Verificar que las columnas 'order_id', 'product_id', 'add_to_cart_order', y 'reordered' sean de tipo numérico adecuado.\n",
    "        - Convertir las columnas mencionadas a tipos numéricos si es necesario.\n",
    "    \n",
    "- Identificar y completar valores ausentes:\n",
    "    \n",
    "    - df_orders, df_products, df_order_products:\n",
    "        - Revisar si hay valores nulos en estas DataFrames utilizando info() o isnull().sum().\n",
    "        - Identificar la cantidad y ubicación de los valores nulos.\n",
    "\n",
    "    - Cómo abordar valores ausentes:\n",
    "        - Si hay pocos valores nulos, podríamos optar por eliminar las filas afectadas.\n",
    "        - Si la cantidad de valores nulos es significativa, podemos considerar la imputación de valores utilizando la media, mediana u otros métodos según el contexto. \n",
    "\n",
    "- Identificar y eliminar valores duplicados:\n",
    "\n",
    "    - df_orders, df_products, df_order_products, df_aisles, df_departments:\n",
    "        - Utilizar duplicated() para identificar duplicados.\n",
    "        - Considerar la eliminación de duplicados basándonos en la lógica del conjunto de datos (por ejemplo, si un 'order_id' está duplicado, podría ser un error).\n",
    "        - Eliminar duplicados utilizando drop_duplicates()."
   ]
  },
  {
   "cell_type": "markdown",
   "id": "07357848-dc64-4156-9cc3-01ff4365226d",
   "metadata": {
    "id": "07357848-dc64-4156-9cc3-01ff4365226d"
   },
   "source": [
    "## Encuentra y elimina los valores duplicados (y describe cómo tomaste tus decisiones)."
   ]
  },
  {
   "cell_type": "markdown",
   "id": "f179f0a9",
   "metadata": {
    "id": "f179f0a9"
   },
   "source": [
    "### `orders` data frame"
   ]
  },
  {
   "cell_type": "code",
   "execution_count": 76,
   "id": "e9deadfe",
   "metadata": {},
   "outputs": [
    {
     "name": "stdout",
     "output_type": "stream",
     "text": [
      "Número de filas duplicadas en df_orders: 15\n",
      "\n",
      "Mostrando las filas duplicadas:\n"
     ]
    },
    {
     "data": {
      "text/html": [
       "<div>\n",
       "<style scoped>\n",
       "    .dataframe tbody tr th:only-of-type {\n",
       "        vertical-align: middle;\n",
       "    }\n",
       "\n",
       "    .dataframe tbody tr th {\n",
       "        vertical-align: top;\n",
       "    }\n",
       "\n",
       "    .dataframe thead th {\n",
       "        text-align: right;\n",
       "    }\n",
       "</style>\n",
       "<table border=\"1\" class=\"dataframe\">\n",
       "  <thead>\n",
       "    <tr style=\"text-align: right;\">\n",
       "      <th></th>\n",
       "      <th>order_id</th>\n",
       "      <th>user_id</th>\n",
       "      <th>order_number</th>\n",
       "      <th>order_dow</th>\n",
       "      <th>order_hour_of_day</th>\n",
       "      <th>days_since_prior_order</th>\n",
       "    </tr>\n",
       "  </thead>\n",
       "  <tbody>\n",
       "    <tr>\n",
       "      <th>145574</th>\n",
       "      <td>794638</td>\n",
       "      <td>50898</td>\n",
       "      <td>24</td>\n",
       "      <td>3</td>\n",
       "      <td>2</td>\n",
       "      <td>2.0</td>\n",
       "    </tr>\n",
       "    <tr>\n",
       "      <th>223105</th>\n",
       "      <td>2160484</td>\n",
       "      <td>107525</td>\n",
       "      <td>16</td>\n",
       "      <td>3</td>\n",
       "      <td>2</td>\n",
       "      <td>30.0</td>\n",
       "    </tr>\n",
       "    <tr>\n",
       "      <th>230807</th>\n",
       "      <td>1918001</td>\n",
       "      <td>188546</td>\n",
       "      <td>14</td>\n",
       "      <td>3</td>\n",
       "      <td>2</td>\n",
       "      <td>16.0</td>\n",
       "    </tr>\n",
       "    <tr>\n",
       "      <th>266232</th>\n",
       "      <td>1782114</td>\n",
       "      <td>106752</td>\n",
       "      <td>1</td>\n",
       "      <td>3</td>\n",
       "      <td>2</td>\n",
       "      <td>NaN</td>\n",
       "    </tr>\n",
       "    <tr>\n",
       "      <th>273805</th>\n",
       "      <td>1112182</td>\n",
       "      <td>202304</td>\n",
       "      <td>84</td>\n",
       "      <td>3</td>\n",
       "      <td>2</td>\n",
       "      <td>6.0</td>\n",
       "    </tr>\n",
       "    <tr>\n",
       "      <th>284038</th>\n",
       "      <td>2845099</td>\n",
       "      <td>31189</td>\n",
       "      <td>11</td>\n",
       "      <td>3</td>\n",
       "      <td>2</td>\n",
       "      <td>7.0</td>\n",
       "    </tr>\n",
       "    <tr>\n",
       "      <th>311713</th>\n",
       "      <td>1021560</td>\n",
       "      <td>53767</td>\n",
       "      <td>3</td>\n",
       "      <td>3</td>\n",
       "      <td>2</td>\n",
       "      <td>9.0</td>\n",
       "    </tr>\n",
       "    <tr>\n",
       "      <th>321100</th>\n",
       "      <td>408114</td>\n",
       "      <td>68324</td>\n",
       "      <td>4</td>\n",
       "      <td>3</td>\n",
       "      <td>2</td>\n",
       "      <td>18.0</td>\n",
       "    </tr>\n",
       "    <tr>\n",
       "      <th>323900</th>\n",
       "      <td>1919531</td>\n",
       "      <td>191501</td>\n",
       "      <td>32</td>\n",
       "      <td>3</td>\n",
       "      <td>2</td>\n",
       "      <td>7.0</td>\n",
       "    </tr>\n",
       "    <tr>\n",
       "      <th>345917</th>\n",
       "      <td>2232988</td>\n",
       "      <td>82565</td>\n",
       "      <td>1</td>\n",
       "      <td>3</td>\n",
       "      <td>2</td>\n",
       "      <td>NaN</td>\n",
       "    </tr>\n",
       "    <tr>\n",
       "      <th>371905</th>\n",
       "      <td>391768</td>\n",
       "      <td>57671</td>\n",
       "      <td>19</td>\n",
       "      <td>3</td>\n",
       "      <td>2</td>\n",
       "      <td>10.0</td>\n",
       "    </tr>\n",
       "    <tr>\n",
       "      <th>394347</th>\n",
       "      <td>467134</td>\n",
       "      <td>63189</td>\n",
       "      <td>21</td>\n",
       "      <td>3</td>\n",
       "      <td>2</td>\n",
       "      <td>2.0</td>\n",
       "    </tr>\n",
       "    <tr>\n",
       "      <th>411408</th>\n",
       "      <td>1286742</td>\n",
       "      <td>183220</td>\n",
       "      <td>48</td>\n",
       "      <td>3</td>\n",
       "      <td>2</td>\n",
       "      <td>4.0</td>\n",
       "    </tr>\n",
       "    <tr>\n",
       "      <th>415163</th>\n",
       "      <td>2282673</td>\n",
       "      <td>86751</td>\n",
       "      <td>49</td>\n",
       "      <td>3</td>\n",
       "      <td>2</td>\n",
       "      <td>2.0</td>\n",
       "    </tr>\n",
       "    <tr>\n",
       "      <th>441599</th>\n",
       "      <td>2125197</td>\n",
       "      <td>14050</td>\n",
       "      <td>48</td>\n",
       "      <td>3</td>\n",
       "      <td>2</td>\n",
       "      <td>3.0</td>\n",
       "    </tr>\n",
       "  </tbody>\n",
       "</table>\n",
       "</div>"
      ],
      "text/plain": [
       "        order_id  user_id  order_number  order_dow  order_hour_of_day  \\\n",
       "145574    794638    50898            24          3                  2   \n",
       "223105   2160484   107525            16          3                  2   \n",
       "230807   1918001   188546            14          3                  2   \n",
       "266232   1782114   106752             1          3                  2   \n",
       "273805   1112182   202304            84          3                  2   \n",
       "284038   2845099    31189            11          3                  2   \n",
       "311713   1021560    53767             3          3                  2   \n",
       "321100    408114    68324             4          3                  2   \n",
       "323900   1919531   191501            32          3                  2   \n",
       "345917   2232988    82565             1          3                  2   \n",
       "371905    391768    57671            19          3                  2   \n",
       "394347    467134    63189            21          3                  2   \n",
       "411408   1286742   183220            48          3                  2   \n",
       "415163   2282673    86751            49          3                  2   \n",
       "441599   2125197    14050            48          3                  2   \n",
       "\n",
       "        days_since_prior_order  \n",
       "145574                     2.0  \n",
       "223105                    30.0  \n",
       "230807                    16.0  \n",
       "266232                     NaN  \n",
       "273805                     6.0  \n",
       "284038                     7.0  \n",
       "311713                     9.0  \n",
       "321100                    18.0  \n",
       "323900                     7.0  \n",
       "345917                     NaN  \n",
       "371905                    10.0  \n",
       "394347                     2.0  \n",
       "411408                     4.0  \n",
       "415163                     2.0  \n",
       "441599                     3.0  "
      ]
     },
     "metadata": {},
     "output_type": "display_data"
    }
   ],
   "source": [
    "# Identificar duplicados basándote en todas las columnas\n",
    "duplicates =df_orders.duplicated().sum()\n",
    "print(\"Número de filas duplicadas en df_orders:\", duplicates)\n",
    "print()\n",
    "\n",
    "duplicates = df_orders.duplicated()\n",
    "\n",
    "# Muestra las filas duplicadas\n",
    "duplicated_rows = df_orders[duplicates]\n",
    "print(\"Mostrando las filas duplicadas:\")\n",
    "display(duplicated_rows)"
   ]
  },
  {
   "cell_type": "markdown",
   "id": "d33a1086",
   "metadata": {},
   "source": [
    "¿Tienes líneas duplicadas? Si sí, ¿qué tienen en común?\n"
   ]
  },
  {
   "cell_type": "markdown",
   "id": "c418f46d",
   "metadata": {},
   "source": [
    "Sí, hay líneas duplicadas en el DataFrame df_orders. Al revisar las filas duplicadas, se puede observar que tienen en común la columna 'order_id'. Esto indica que los duplicados están relacionados con pedidos específicos que donde se repite el mismo 'order_id'.\n",
    "\n",
    "Algunas columnas, como 'user_id', 'order_number', 'order_dow', 'order_hour_of_day' y 'days_since_prior_order', también tienen valores idénticos, sin embargo, ya que 'order_id' debería ser único para cada pedido, parece apropiado conservar la primera aparición del pedido y eliminar las duplicadas. Vamos a utilizar la función drop_duplicates() para eliminar las filas duplicadas basándonos en 'order_id'."
   ]
  },
  {
   "cell_type": "code",
   "execution_count": 77,
   "id": "cff79b9e",
   "metadata": {},
   "outputs": [
    {
     "name": "stdout",
     "output_type": "stream",
     "text": [
      "Pedidos realizados el miércoles a las 2:00 a.m.:\n"
     ]
    },
    {
     "data": {
      "text/html": [
       "<div>\n",
       "<style scoped>\n",
       "    .dataframe tbody tr th:only-of-type {\n",
       "        vertical-align: middle;\n",
       "    }\n",
       "\n",
       "    .dataframe tbody tr th {\n",
       "        vertical-align: top;\n",
       "    }\n",
       "\n",
       "    .dataframe thead th {\n",
       "        text-align: right;\n",
       "    }\n",
       "</style>\n",
       "<table border=\"1\" class=\"dataframe\">\n",
       "  <thead>\n",
       "    <tr style=\"text-align: right;\">\n",
       "      <th></th>\n",
       "      <th>order_id</th>\n",
       "      <th>user_id</th>\n",
       "      <th>order_number</th>\n",
       "      <th>order_dow</th>\n",
       "      <th>order_hour_of_day</th>\n",
       "      <th>days_since_prior_order</th>\n",
       "    </tr>\n",
       "  </thead>\n",
       "  <tbody>\n",
       "    <tr>\n",
       "      <th>1295</th>\n",
       "      <td>1474941</td>\n",
       "      <td>115569</td>\n",
       "      <td>5</td>\n",
       "      <td>2</td>\n",
       "      <td>2</td>\n",
       "      <td>28.0</td>\n",
       "    </tr>\n",
       "    <tr>\n",
       "      <th>2391</th>\n",
       "      <td>1640269</td>\n",
       "      <td>173965</td>\n",
       "      <td>15</td>\n",
       "      <td>2</td>\n",
       "      <td>2</td>\n",
       "      <td>2.0</td>\n",
       "    </tr>\n",
       "    <tr>\n",
       "      <th>2550</th>\n",
       "      <td>1223696</td>\n",
       "      <td>55276</td>\n",
       "      <td>11</td>\n",
       "      <td>2</td>\n",
       "      <td>2</td>\n",
       "      <td>30.0</td>\n",
       "    </tr>\n",
       "    <tr>\n",
       "      <th>5965</th>\n",
       "      <td>579194</td>\n",
       "      <td>85018</td>\n",
       "      <td>14</td>\n",
       "      <td>2</td>\n",
       "      <td>2</td>\n",
       "      <td>11.0</td>\n",
       "    </tr>\n",
       "    <tr>\n",
       "      <th>17680</th>\n",
       "      <td>2004230</td>\n",
       "      <td>203121</td>\n",
       "      <td>4</td>\n",
       "      <td>2</td>\n",
       "      <td>2</td>\n",
       "      <td>8.0</td>\n",
       "    </tr>\n",
       "    <tr>\n",
       "      <th>...</th>\n",
       "      <td>...</td>\n",
       "      <td>...</td>\n",
       "      <td>...</td>\n",
       "      <td>...</td>\n",
       "      <td>...</td>\n",
       "      <td>...</td>\n",
       "    </tr>\n",
       "    <tr>\n",
       "      <th>457660</th>\n",
       "      <td>1562381</td>\n",
       "      <td>19378</td>\n",
       "      <td>5</td>\n",
       "      <td>2</td>\n",
       "      <td>2</td>\n",
       "      <td>6.0</td>\n",
       "    </tr>\n",
       "    <tr>\n",
       "      <th>460316</th>\n",
       "      <td>1986084</td>\n",
       "      <td>117453</td>\n",
       "      <td>81</td>\n",
       "      <td>2</td>\n",
       "      <td>2</td>\n",
       "      <td>8.0</td>\n",
       "    </tr>\n",
       "    <tr>\n",
       "      <th>462676</th>\n",
       "      <td>1362113</td>\n",
       "      <td>19654</td>\n",
       "      <td>20</td>\n",
       "      <td>2</td>\n",
       "      <td>2</td>\n",
       "      <td>21.0</td>\n",
       "    </tr>\n",
       "    <tr>\n",
       "      <th>472800</th>\n",
       "      <td>1746383</td>\n",
       "      <td>88484</td>\n",
       "      <td>19</td>\n",
       "      <td>2</td>\n",
       "      <td>2</td>\n",
       "      <td>5.0</td>\n",
       "    </tr>\n",
       "    <tr>\n",
       "      <th>472923</th>\n",
       "      <td>1519815</td>\n",
       "      <td>149345</td>\n",
       "      <td>1</td>\n",
       "      <td>2</td>\n",
       "      <td>2</td>\n",
       "      <td>NaN</td>\n",
       "    </tr>\n",
       "  </tbody>\n",
       "</table>\n",
       "<p>136 rows × 6 columns</p>\n",
       "</div>"
      ],
      "text/plain": [
       "        order_id  user_id  order_number  order_dow  order_hour_of_day  \\\n",
       "1295     1474941   115569             5          2                  2   \n",
       "2391     1640269   173965            15          2                  2   \n",
       "2550     1223696    55276            11          2                  2   \n",
       "5965      579194    85018            14          2                  2   \n",
       "17680    2004230   203121             4          2                  2   \n",
       "...          ...      ...           ...        ...                ...   \n",
       "457660   1562381    19378             5          2                  2   \n",
       "460316   1986084   117453            81          2                  2   \n",
       "462676   1362113    19654            20          2                  2   \n",
       "472800   1746383    88484            19          2                  2   \n",
       "472923   1519815   149345             1          2                  2   \n",
       "\n",
       "        days_since_prior_order  \n",
       "1295                      28.0  \n",
       "2391                       2.0  \n",
       "2550                      30.0  \n",
       "5965                      11.0  \n",
       "17680                      8.0  \n",
       "...                        ...  \n",
       "457660                     6.0  \n",
       "460316                     8.0  \n",
       "462676                    21.0  \n",
       "472800                     5.0  \n",
       "472923                     NaN  \n",
       "\n",
       "[136 rows x 6 columns]"
      ]
     },
     "metadata": {},
     "output_type": "display_data"
    }
   ],
   "source": [
    "# Verificando todos los pedidos que se hicieron el miércoles a las 2:00 a.m.\n",
    "wednesday_orders_2am = df_orders[(df_orders['order_dow'] == 2) & (df_orders['order_hour_of_day'] == 2)]\n",
    "print(\"Pedidos realizados el miércoles a las 2:00 a.m.:\")\n",
    "display(wednesday_orders_2am)"
   ]
  },
  {
   "cell_type": "markdown",
   "id": "vu2OWyoqwOx5",
   "metadata": {
    "id": "vu2OWyoqwOx5"
   },
   "source": [
    "¿Qué sugiere este resultado?\n",
    "\n",
    "Sugiere que hay pedidos específicos realizados regularmente los miércoles a las 2:00 a.m., contiene 121 filas que cumplen con la condición de horario. Cada fila representa un pedido realizado los miércoles a las 2:00 a.m. e incluye información detallada sobre ese pedido, como el order_id, user_id, order_number, order_dow (día de la semana), order_hour_of_day (hora del día) y days_since_prior_order (días desde el pedido anterior).\n",
    "\n",
    "Esta información puede ser útil para entender los patrones de compra de los usuarios en este día y en este horario, también se puede sugerir patrones y tendencias específicas de cada cuanto tiempo los usuarios deciden realizar pedidos en este día y horario. Por ejemplo, se podría analizar las rutinas de compra, es decir, que prefieran realizar sus pedidos de forma regular en este día y horario, o manejar algun tipo de promoción o descuento para este dia y horario para incentivar los pedidos en este rango de tiempo, etc. \n",
    "\n",
    "Analizar los patrones de compra es un ejemplo de lo que podría ser valioso para la empresa, comprender el comportamiento de compra de sus usuarios."
   ]
  },
  {
   "cell_type": "code",
   "execution_count": 78,
   "id": "480563c7",
   "metadata": {
    "id": "480563c7"
   },
   "outputs": [],
   "source": [
    "# Eliminar duplicados basados en 'order_id'\n",
    "df_orders_cleaned = df_orders.drop_duplicates(subset='order_id', keep='first')\n",
    "\n",
    "# Reiniciar el índice y eliminar el antiguo en df_orders_cleaned\n",
    "df_orders_cleaned.reset_index(drop=True, inplace=True)"
   ]
  },
  {
   "cell_type": "code",
   "execution_count": 79,
   "id": "6635d870",
   "metadata": {},
   "outputs": [
    {
     "data": {
      "text/html": [
       "<div>\n",
       "<style scoped>\n",
       "    .dataframe tbody tr th:only-of-type {\n",
       "        vertical-align: middle;\n",
       "    }\n",
       "\n",
       "    .dataframe tbody tr th {\n",
       "        vertical-align: top;\n",
       "    }\n",
       "\n",
       "    .dataframe thead th {\n",
       "        text-align: right;\n",
       "    }\n",
       "</style>\n",
       "<table border=\"1\" class=\"dataframe\">\n",
       "  <thead>\n",
       "    <tr style=\"text-align: right;\">\n",
       "      <th></th>\n",
       "      <th>order_id</th>\n",
       "      <th>user_id</th>\n",
       "      <th>order_number</th>\n",
       "      <th>order_dow</th>\n",
       "      <th>order_hour_of_day</th>\n",
       "      <th>days_since_prior_order</th>\n",
       "    </tr>\n",
       "  </thead>\n",
       "  <tbody>\n",
       "    <tr>\n",
       "      <th>0</th>\n",
       "      <td>1515936</td>\n",
       "      <td>183418</td>\n",
       "      <td>11</td>\n",
       "      <td>6</td>\n",
       "      <td>13</td>\n",
       "      <td>30.0</td>\n",
       "    </tr>\n",
       "    <tr>\n",
       "      <th>1</th>\n",
       "      <td>1690866</td>\n",
       "      <td>163593</td>\n",
       "      <td>5</td>\n",
       "      <td>5</td>\n",
       "      <td>12</td>\n",
       "      <td>9.0</td>\n",
       "    </tr>\n",
       "    <tr>\n",
       "      <th>2</th>\n",
       "      <td>1454967</td>\n",
       "      <td>39980</td>\n",
       "      <td>4</td>\n",
       "      <td>5</td>\n",
       "      <td>19</td>\n",
       "      <td>2.0</td>\n",
       "    </tr>\n",
       "    <tr>\n",
       "      <th>3</th>\n",
       "      <td>1768857</td>\n",
       "      <td>82516</td>\n",
       "      <td>56</td>\n",
       "      <td>0</td>\n",
       "      <td>20</td>\n",
       "      <td>10.0</td>\n",
       "    </tr>\n",
       "    <tr>\n",
       "      <th>4</th>\n",
       "      <td>3007858</td>\n",
       "      <td>196724</td>\n",
       "      <td>2</td>\n",
       "      <td>4</td>\n",
       "      <td>12</td>\n",
       "      <td>17.0</td>\n",
       "    </tr>\n",
       "    <tr>\n",
       "      <th>...</th>\n",
       "      <td>...</td>\n",
       "      <td>...</td>\n",
       "      <td>...</td>\n",
       "      <td>...</td>\n",
       "      <td>...</td>\n",
       "      <td>...</td>\n",
       "    </tr>\n",
       "    <tr>\n",
       "      <th>478947</th>\n",
       "      <td>3210681</td>\n",
       "      <td>5617</td>\n",
       "      <td>5</td>\n",
       "      <td>1</td>\n",
       "      <td>14</td>\n",
       "      <td>7.0</td>\n",
       "    </tr>\n",
       "    <tr>\n",
       "      <th>478948</th>\n",
       "      <td>3270802</td>\n",
       "      <td>112087</td>\n",
       "      <td>2</td>\n",
       "      <td>3</td>\n",
       "      <td>13</td>\n",
       "      <td>6.0</td>\n",
       "    </tr>\n",
       "    <tr>\n",
       "      <th>478949</th>\n",
       "      <td>885349</td>\n",
       "      <td>82944</td>\n",
       "      <td>16</td>\n",
       "      <td>2</td>\n",
       "      <td>11</td>\n",
       "      <td>6.0</td>\n",
       "    </tr>\n",
       "    <tr>\n",
       "      <th>478950</th>\n",
       "      <td>216274</td>\n",
       "      <td>4391</td>\n",
       "      <td>3</td>\n",
       "      <td>3</td>\n",
       "      <td>8</td>\n",
       "      <td>8.0</td>\n",
       "    </tr>\n",
       "    <tr>\n",
       "      <th>478951</th>\n",
       "      <td>2071924</td>\n",
       "      <td>1730</td>\n",
       "      <td>18</td>\n",
       "      <td>1</td>\n",
       "      <td>14</td>\n",
       "      <td>15.0</td>\n",
       "    </tr>\n",
       "  </tbody>\n",
       "</table>\n",
       "<p>478952 rows × 6 columns</p>\n",
       "</div>"
      ],
      "text/plain": [
       "        order_id  user_id  order_number  order_dow  order_hour_of_day  \\\n",
       "0        1515936   183418            11          6                 13   \n",
       "1        1690866   163593             5          5                 12   \n",
       "2        1454967    39980             4          5                 19   \n",
       "3        1768857    82516            56          0                 20   \n",
       "4        3007858   196724             2          4                 12   \n",
       "...          ...      ...           ...        ...                ...   \n",
       "478947   3210681     5617             5          1                 14   \n",
       "478948   3270802   112087             2          3                 13   \n",
       "478949    885349    82944            16          2                 11   \n",
       "478950    216274     4391             3          3                  8   \n",
       "478951   2071924     1730            18          1                 14   \n",
       "\n",
       "        days_since_prior_order  \n",
       "0                         30.0  \n",
       "1                          9.0  \n",
       "2                          2.0  \n",
       "3                         10.0  \n",
       "4                         17.0  \n",
       "...                        ...  \n",
       "478947                     7.0  \n",
       "478948                     6.0  \n",
       "478949                     6.0  \n",
       "478950                     8.0  \n",
       "478951                    15.0  \n",
       "\n",
       "[478952 rows x 6 columns]"
      ]
     },
     "metadata": {},
     "output_type": "display_data"
    }
   ],
   "source": [
    "# Imprimir el DataFrame para verificar el índice\n",
    "display(df_orders_cleaned)"
   ]
  },
  {
   "cell_type": "code",
   "execution_count": 80,
   "id": "0b2396a2",
   "metadata": {
    "id": "0b2396a2",
    "scrolled": true
   },
   "outputs": [
    {
     "name": "stdout",
     "output_type": "stream",
     "text": [
      "Información después de eliminar duplicados:\n",
      "<class 'pandas.core.frame.DataFrame'>\n",
      "RangeIndex: 478952 entries, 0 to 478951\n",
      "Data columns (total 6 columns):\n",
      " #   Column                  Non-Null Count   Dtype  \n",
      "---  ------                  --------------   -----  \n",
      " 0   order_id                478952 non-null  int64  \n",
      " 1   user_id                 478952 non-null  int64  \n",
      " 2   order_number            478952 non-null  int64  \n",
      " 3   order_dow               478952 non-null  int64  \n",
      " 4   order_hour_of_day       478952 non-null  int64  \n",
      " 5   days_since_prior_order  450135 non-null  float64\n",
      "dtypes: float64(1), int64(5)\n",
      "memory usage: 21.9 MB\n",
      "None\n"
     ]
    }
   ],
   "source": [
    "# Verificar que los duplicados se hayan eliminado\n",
    "print(\"Información después de eliminar duplicados:\")\n",
    "print(df_orders_cleaned.info())"
   ]
  },
  {
   "cell_type": "code",
   "execution_count": 81,
   "id": "f6113ef1",
   "metadata": {
    "id": "f6113ef1"
   },
   "outputs": [
    {
     "name": "stdout",
     "output_type": "stream",
     "text": [
      "Filas duplicadas basadas en 'order_id':\n",
      "Empty DataFrame\n",
      "Columns: [order_id, user_id, order_number, order_dow, order_hour_of_day, days_since_prior_order]\n",
      "Index: []\n"
     ]
    }
   ],
   "source": [
    "# Verificar si hay IDs duplicados de pedidos\n",
    "duplicated_order_ids = df_orders_cleaned.duplicated(subset='order_id', keep=False)\n",
    "\n",
    "# Mostrar las filas duplicadas basadas en 'order_id'\n",
    "duplicated_order_ids_rows = df_orders_cleaned[duplicated_order_ids]\n",
    "print(\"Filas duplicadas basadas en 'order_id':\")\n",
    "print(duplicated_order_ids_rows)"
   ]
  },
  {
   "cell_type": "markdown",
   "id": "5e8905ae",
   "metadata": {
    "id": "5e8905ae"
   },
   "source": [
    "Describe brevemente tus hallazgos y lo que hiciste con ellos"
   ]
  },
  {
   "cell_type": "markdown",
   "id": "57fad997",
   "metadata": {},
   "source": [
    "Después de la limpieza de duplicados en el DataFrame df_orders_cleaned, se observa que ahora contiene 478,952 entradas únicas. Se identificaron algunos valores nulos en la columna 'days_since_prior_order', totalizando 450,135 no nulos de las 478,952 entradas. La reducción en el número total de entradas únicas confirma la efectividad de la eliminación de duplicados en la base de datos de pedidos. La presencia de valores nulos en 'days_since_prior_order' sugiere que algunos clientes realizaron su primer pedido, y por lo tanto, no hay un valor asignado para \"días desde el pedido anterior\". Además, no se encontraron IDs de pedidos duplicados después de la limpieza, respaldando la eficacia del proceso de eliminación de duplicados."
   ]
  },
  {
   "cell_type": "markdown",
   "id": "45e6bc46",
   "metadata": {
    "id": "45e6bc46"
   },
   "source": [
    "### `products` data frame"
   ]
  },
  {
   "cell_type": "code",
   "execution_count": 82,
   "id": "5f526b5b-8175-46fa-a0fd-441767d50e64",
   "metadata": {
    "id": "5f526b5b-8175-46fa-a0fd-441767d50e64"
   },
   "outputs": [
    {
     "name": "stdout",
     "output_type": "stream",
     "text": [
      "Filas totalmente duplicadas en df_products:\n",
      "Empty DataFrame\n",
      "Columns: [product_id, product_name, aisle_id, department_id]\n",
      "Index: []\n"
     ]
    }
   ],
   "source": [
    "# Verificar si hay filas totalmente duplicadas en df_products\n",
    "duplicated_rows_products = df_products[df_products.duplicated()]\n",
    "\n",
    "# Mostrar las filas totalmente duplicadas\n",
    "print(\"Filas totalmente duplicadas en df_products:\")\n",
    "print(duplicated_rows_products)\n",
    "\n"
   ]
  },
  {
   "cell_type": "code",
   "execution_count": 83,
   "id": "88daa4f4",
   "metadata": {
    "id": "88daa4f4"
   },
   "outputs": [
    {
     "name": "stdout",
     "output_type": "stream",
     "text": [
      "Número de IDs duplicados de productos: 0\n",
      "IDs duplicados de productos:\n",
      "[]\n"
     ]
    }
   ],
   "source": [
    "# Verificando si hay IDs duplicadas de productos\n",
    "duplicates_products_id = df_products[df_products.duplicated(subset='product_id', keep=False)]\n",
    "print(\"Número de IDs duplicados de productos:\", len(duplicates_products_id))\n",
    "print(\"IDs duplicados de productos:\")\n",
    "print(duplicates_products_id['product_id'].unique())"
   ]
  },
  {
   "cell_type": "code",
   "execution_count": 84,
   "id": "c773f0bf",
   "metadata": {
    "id": "c773f0bf"
   },
   "outputs": [
    {
     "name": "stdout",
     "output_type": "stream",
     "text": [
      "\n",
      "Nombres duplicados de productos (mayúsculas) en df_products: 1465\n",
      "\n",
      "Nombres duplicados de productos:\n",
      "['18-IN-1 HEMP PEPPERMINT PURE-CASTILE SOAP'\n",
      " 'AGED BALSAMIC VINEGAR OF MODENA' 'ALBACORE SOLID WHITE TUNA IN WATER'\n",
      " 'AMERICAN CHEESE SLICES' 'ANCHOVY FILLETS IN OLIVE OIL'\n",
      " 'APRICOT ENERGY BAR' 'BAG OF ORANGES' 'BAG OF ORGANIC LEMONS'\n",
      " 'BALSAMIC VINEGAR OF MODENA' 'BBQ SAUCE' 'BEEF CHILI WITH BEANS'\n",
      " 'BEEF RAVIOLI IN TOMATO & MEAT SAUCE' 'BIOTIN 1000 MCG' 'BLANC DE NOIRS'\n",
      " 'BLEU CHEESE SALAD DRESSING AND DIP' 'BURRITO- STEAK & CHEESE'\n",
      " 'CANDY BAR' 'CARROT AND CELERY STICKS' 'CAULIFLOWER HEAD'\n",
      " 'CHICKEN IN A BISKIT BAKED SNACK CRACKERS' 'CHICKEN WITH RICE SOUP'\n",
      " 'CHILI WITH BEANS' 'CHIPOTLE PEPPERS IN ADOBO SAUCE'\n",
      " 'CHOPPED GARLIC IN WATER' 'CHUNK LIGHT TUNA IN VEGETABLE OIL'\n",
      " 'CHUNK LIGHT TUNA IN WATER' 'CINNAMON ROLLS WITH ICING'\n",
      " 'COCONUT JUICE WITH PULP' 'CONCENTRACE TRACE MINERAL DROPS'\n",
      " \"COOKIES 'N CREAM ICE CREAM\" 'COSMIC BROWNIES WITH CHOCOLATE CHIP CANDY'\n",
      " 'CREAM OF CELERY CONDENSED SOUP' 'CREAM OF MUSHROOM SOUP'\n",
      " 'CREAM OF TARTAR' 'CRUSHED TOMATOES WITH BASIL'\n",
      " 'DARK CHOCOLATE WITH ALMONDS' 'DICED PEELED TOMATOES IN TOMATO JUICE'\n",
      " 'DRINKING WATER' 'DULCE DE LECHE CARAMEL ICE CREAM'\n",
      " 'EDAMAME SOYBEANS IN PODS' 'FAMILY SIZE LASAGNA WITH MEAT & SAUCE'\n",
      " 'FIRE ROASTED DICED TOMATOES WITH GARLIC'\n",
      " 'FLAT FILLETS OF ANCHOVIES IN PURE OLIVE OIL'\n",
      " 'FLUFFLY VANILLA MARSHMALLOW FROSTING'\n",
      " 'FRESH SCENT DISHWASHER DETERGENT WITH DAWN'\n",
      " 'FRUIT COCKTAIL IN HEAVY SYRUP'\n",
      " 'GENTLE AND PREDICTABLE OVERNIGHT RELIEF LAXATIVE TABLETS'\n",
      " 'GLASS CLEANER WITH AMMONIA' 'GLUTEN FREE SPAGHETTI'\n",
      " 'GREEN TEA WITH GINSENG AND HONEY' 'HALF AND HALF' 'HEARTS OF PALM'\n",
      " 'HERRING IN WINE SAUCE' 'HIGH PERFORMANCE ENERGY DRINK'\n",
      " 'HYDRO BODY SPONGE WITH HAND STRAP' 'IBUPROFEN TABLETS 200 MG'\n",
      " 'LASAGNA WITH MEAT SAUCE' 'LAVENDER & CHAMOMILE BABY POWDER'\n",
      " 'LEAVE-IN CONDITIONER' 'MACARONI AND CHEESE'\n",
      " 'MANDARIN ORANGES IN LIGHT SYRUP' 'MARASCHINO CHERRIES WITH STEMS'\n",
      " 'MATZO BALL MIX' 'MEDITERRANEAN SEA SALT' 'MEGAFLORA PROBIOTIC'\n",
      " 'MOUNTAIN BERRY BLAST SPORTS DRINK'\n",
      " 'MOZZARELLA STICKS WITH MARINARA SAUCE' 'MUENSTER CHEESE SLICES'\n",
      " 'NUTRITION PROTEIN MIX BLUEBERRY NUT' 'OIL OF OREGANO DIETARY SUPPLEMENT'\n",
      " 'ORGANIC BALSAMIC VINEGAR OF MODENA'\n",
      " 'ORGANIC INSTANT OATMEAL LIGHT MAPLE BROWN SUGAR' 'ORIGINAL BBQ SAUCE'\n",
      " 'ORIGINAL CHILI CON CARNE WITH BEANS' 'ORIGINAL PANCAKE & WAFFLE MIX'\n",
      " 'ORIGINAL POTATO CHIPS' 'PINEAPPLE SLICES IN 100% PINEAPPLE JUICE'\n",
      " 'PINEAPPLE SLICES IN HEAVY SYRUP'\n",
      " \"POTATOES O'BRIEN WITH ONIONS AND PEPPERS\"\n",
      " 'POWERBALL MAX IN 1 SHINE & PROTECT' 'PREMIUM LUBRICANT CONDOMS ENZ'\n",
      " 'PROACTIVE HEALTH INDOOR WEIGHT & HAIRBALL CARE WITH CHICKEN CAT FOOD'\n",
      " 'PROTEIN PLUS VANILLA BEAN PROTEIN SHAKE' 'PUMPKIN SPICE'\n",
      " 'RIGATONI WITH CHICKEN & PESTO' 'SALSA MEDIUM'\n",
      " 'SEA SALT CARAMEL ICE CREAM' 'SKINLESS & BONELESS SARDINES IN OLIVE OIL'\n",
      " 'SOLID WHITE ALBACORE TUNA IN SPRING WATER'\n",
      " 'SOLID WHITE ALBACORE TUNA IN WATER' 'SOUR CREAM AND ONION POTATO CHIPS'\n",
      " 'SPREADABLE BUTTER WITH CANOLA OIL' 'SPRING WATER BODY WASH'\n",
      " \"TENDER WHITE MEAT CHICKEN- VEGETABLES & RICE IN A CHEDDAR CHEESE SAUCE GRANDMA'S CHICKEN & VEGETABLE RICE BAKE\"\n",
      " 'TOMATO AND BASIL PASTA SAUCE' 'TOMATO JUICE FROM CONCENTRATE'\n",
      " 'TOP THE TATER CHIVE & ONION SOUR CREAM' 'ULTRAGEL PERSONAL LUBRICANT'\n",
      " 'VITAMIN D3 1000 IU' 'VITAMIN D3 2000 IU' 'VITAMIN D3 5000 IU'\n",
      " 'WILD SARDINES IN SPRING WATER' 'YAMS CUT SWEET POTATOES IN SYRUP' nan]\n"
     ]
    }
   ],
   "source": [
    "#Revisando si hay nombres duplicados de productos convirtiendo los nombres a letras mayúsculas\n",
    "df_products['product_name_upper'] = df_products['product_name'].str.upper()\n",
    "duplicates_products_names = df_products[df_products.duplicated(subset='product_name_upper', keep=False)]\n",
    "print(\"\\nNombres duplicados de productos (mayúsculas) en df_products:\", len(duplicates_products_names))\n",
    "print()\n",
    "print(\"Nombres duplicados de productos:\")\n",
    "print(duplicates_products_names['product_name_upper'].sort_values().unique())\n",
    "df_products.drop(columns=['product_name_upper'], inplace=True)\n"
   ]
  },
  {
   "cell_type": "code",
   "execution_count": 85,
   "id": "01efd02e",
   "metadata": {
    "id": "01efd02e"
   },
   "outputs": [
    {
     "name": "stdout",
     "output_type": "stream",
     "text": [
      "\n",
      "Nombres duplicados de productos no faltantes en df_products:\n",
      "Empty DataFrame\n",
      "Columns: [product_id, product_name, aisle_id, department_id]\n",
      "Index: []\n",
      "\n",
      "Nombres duplicados de productos en mayúsculas en df_products:\n",
      "       product_id                                     product_name  aisle_id  \\\n",
      "37             38                                              NaN       100   \n",
      "41             42                                  Biotin 1000 mcg        47   \n",
      "71             72                                              NaN       100   \n",
      "109           110                                              NaN       100   \n",
      "185           186       Fresh Scent Dishwasher Detergent with Dawn        74   \n",
      "...           ...                                              ...       ...   \n",
      "49689       49690                    HIGH PERFORMANCE ENERGY DRINK        64   \n",
      "49690       49691                    ORIGINAL PANCAKE & WAFFLE MIX       130   \n",
      "49691       49692  ORGANIC INSTANT OATMEAL LIGHT MAPLE BROWN SUGAR       130   \n",
      "49692       49693                           SPRING WATER BODY WASH       127   \n",
      "49693       49694                          BURRITO- STEAK & CHEESE        38   \n",
      "\n",
      "       department_id                               product_name_upper  \n",
      "37                21                                              NaN  \n",
      "41                11                                  BIOTIN 1000 MCG  \n",
      "71                21                                              NaN  \n",
      "109               21                                              NaN  \n",
      "185               17       FRESH SCENT DISHWASHER DETERGENT WITH DAWN  \n",
      "...              ...                                              ...  \n",
      "49689              7                    HIGH PERFORMANCE ENERGY DRINK  \n",
      "49690             14                    ORIGINAL PANCAKE & WAFFLE MIX  \n",
      "49691             14  ORGANIC INSTANT OATMEAL LIGHT MAPLE BROWN SUGAR  \n",
      "49692             11                           SPRING WATER BODY WASH  \n",
      "49693              1                          BURRITO- STEAK & CHEESE  \n",
      "\n",
      "[1465 rows x 5 columns]\n"
     ]
    }
   ],
   "source": [
    "# Verificar nombres duplicados de productos no faltantes\n",
    "duplicated_product_names_notnull = df_products[df_products.duplicated(subset='product_name', keep=False) & df_products['product_name'].notnull()]\n",
    "\n",
    "# Mostrar las filas duplicadas basadas en 'product_name' (no faltantes)\n",
    "print(\"\\nNombres duplicados de productos no faltantes en df_products:\")\n",
    "print(duplicated_product_names_notnull)\n",
    "\n",
    "# Convertir todos los nombres de productos a mayúsculas\n",
    "df_products['product_name_upper'] = df_products['product_name'].str.upper()\n",
    "\n",
    "# Verificar nombres duplicados de productos en mayúsculas\n",
    "duplicated_product_names_upper = df_products[df_products.duplicated(subset='product_name_upper', keep=False)]\n",
    "\n",
    "# Mostrar las filas duplicadas basadas en 'product_name' en mayúsculas\n",
    "print(\"\\nNombres duplicados de productos en mayúsculas en df_products:\")\n",
    "print(duplicated_product_names_upper)\n",
    "\n",
    "# Eliminar la columna auxiliar\n",
    "df_products = df_products.drop(columns=['product_name_upper'])"
   ]
  },
  {
   "cell_type": "code",
   "execution_count": 86,
   "id": "6f5b8cf8",
   "metadata": {},
   "outputs": [
    {
     "name": "stdout",
     "output_type": "stream",
     "text": [
      "Información después de abordar duplicados:\n",
      "<class 'pandas.core.frame.DataFrame'>\n",
      "Int64Index: 48333 entries, 0 to 49687\n",
      "Data columns (total 4 columns):\n",
      " #   Column         Non-Null Count  Dtype \n",
      "---  ------         --------------  ----- \n",
      " 0   product_id     48333 non-null  int64 \n",
      " 1   product_name   48332 non-null  object\n",
      " 2   aisle_id       48333 non-null  int64 \n",
      " 3   department_id  48333 non-null  int64 \n",
      "dtypes: int64(3), object(1)\n",
      "memory usage: 1.8+ MB\n",
      "None\n"
     ]
    }
   ],
   "source": [
    "# Identificar y mantener una única entrada para 'Unknown'\n",
    "df_products.loc[df_products['product_name'] == 'Unknown', 'product_name'] = 'UNKNOWN'\n",
    "\n",
    "# Normalizar la capitalización de los demás nombres de productos\n",
    "df_products['product_name'] = df_products['product_name'].str.upper()\n",
    "\n",
    "# Eliminar duplicados después de la normalización\n",
    "df_products_cleaned = df_products.drop_duplicates(subset='product_name')\n",
    "\n",
    "# Mostrar información sobre los duplicados corregidos\n",
    "print(\"Información después de abordar duplicados:\")\n",
    "print(df_products_cleaned.info())\n"
   ]
  },
  {
   "cell_type": "markdown",
   "id": "9da8d293",
   "metadata": {
    "id": "9da8d293"
   },
   "source": [
    "Describe brevemente tus hallazgos y lo que hiciste con ellos."
   ]
  },
  {
   "cell_type": "markdown",
   "id": "358b36a9",
   "metadata": {},
   "source": [
    "Los resultados revelan que hay nombres de productos duplicados en el DataFrame df_products. Primero, se identificaron 1258 duplicados cuando se consideran los nombres de productos sin distinción entre mayúsculas y minúsculas. Estos duplicados muestran que hay varias entradas con el nombre 'Unknown' en la columna 'product_name', todas con el mismo aisle_id (100) y department_id (21). Luego, al convertir todos los nombres de productos a mayúsculas y buscar duplicados, se encontraron 1465 registros duplicados. Estos duplicados incluyen tanto el 'Unknown' como otros productos con nombres similares pero escritos con variaciones de mayúsculas y minúsculas.\n",
    "\n",
    "Para abordar esto, se utilizó un código que cambió todas las entradas del nombre 'Unknown' a 'UNKNOWN', normalizó la capitalización de los demás nombres de productos a mayúsculas y eliminó los duplicados después de la normalización. El resultado fue un DataFrame df_products_cleaned con 48,333 entradas únicas y sin duplicados. La información después de abordar duplicados muestra que el DataFrame resultante tiene 48,333 entradas sin valores nulos, con columnas 'product_id', 'product_name', 'aisle_id' y 'department_id'. Este proceso garantiza la coherencia en los datos y evita redundancias en el análisis futuro."
   ]
  },
  {
   "cell_type": "markdown",
   "id": "60f30db1",
   "metadata": {
    "id": "60f30db1"
   },
   "source": [
    "### `departments` data frame"
   ]
  },
  {
   "cell_type": "code",
   "execution_count": 87,
   "id": "fb410ad4-0fbf-4b80-bb09-23fdea79afe3",
   "metadata": {
    "id": "fb410ad4-0fbf-4b80-bb09-23fdea79afe3"
   },
   "outputs": [
    {
     "name": "stdout",
     "output_type": "stream",
     "text": [
      "Número de filas duplicadas en df_departments: 0\n",
      "\n",
      "Filas totalmente duplicadas en df_departments:\n",
      "Empty DataFrame\n",
      "Columns: [department_id, department]\n",
      "Index: []\n"
     ]
    }
   ],
   "source": [
    "# Revisando si hay filas totalmente duplicadas\n",
    "duplicates_departments = df_departments[df_departments.duplicated(keep=False)]\n",
    "print(\"Número de filas duplicadas en df_departments:\", len(duplicates_departments))\n",
    "print()\n",
    "print(\"Filas totalmente duplicadas en df_departments:\")\n",
    "print(duplicates_departments)"
   ]
  },
  {
   "cell_type": "code",
   "execution_count": 88,
   "id": "332b12bb",
   "metadata": {
    "id": "332b12bb"
   },
   "outputs": [
    {
     "name": "stdout",
     "output_type": "stream",
     "text": [
      "Número de IDs duplicados de departamentos: 0\n",
      "IDs duplicados de departamentos:\n",
      "[]\n"
     ]
    }
   ],
   "source": [
    "# Verificar IDs duplicados de productos\n",
    "duplicates_departments_ids = df_departments[df_departments.duplicated(subset=['department_id'])]\n",
    "print(\"Número de IDs duplicados de departamentos:\", len(duplicates_departments_ids))\n",
    "print(\"IDs duplicados de departamentos:\")\n",
    "print(duplicates_departments_ids['department_id'].sort_values().unique())"
   ]
  },
  {
   "cell_type": "markdown",
   "id": "bd30d78e",
   "metadata": {
    "id": "bd30d78e"
   },
   "source": [
    "Describe brevemente tus hallazgos y lo que hiciste con ellos."
   ]
  },
  {
   "cell_type": "markdown",
   "id": "f11b526e",
   "metadata": {},
   "source": [
    "Tras examinar el dataframe df_departments, se constató que no existen filas completamente duplicadas ni IDs duplicados en la columna 'department_id'. Esta consistencia en los datos refleja la calidad del conjunto, no requiriendo acciones correctivas. En consecuencia, se determinó que los datos están limpios y no demandan modificaciones adicionales en esta etapa."
   ]
  },
  {
   "cell_type": "markdown",
   "id": "889349c1",
   "metadata": {
    "id": "889349c1"
   },
   "source": [
    "### `aisles` data frame"
   ]
  },
  {
   "cell_type": "code",
   "execution_count": 89,
   "id": "9da89fb9-4679-40f5-ad0d-c34df753a3f8",
   "metadata": {
    "id": "9da89fb9-4679-40f5-ad0d-c34df753a3f8"
   },
   "outputs": [
    {
     "name": "stdout",
     "output_type": "stream",
     "text": [
      "Número de filas duplicadas en df_aisles: 0\n",
      "Líneas duplicadas en df_aisles:\n",
      "Empty DataFrame\n",
      "Columns: [aisle_id, aisle]\n",
      "Index: []\n"
     ]
    }
   ],
   "source": [
    "# Revisa si hay filas totalmente duplicadas\n",
    "duplicates_aisles = df_aisles[df_aisles.duplicated(keep=False)]\n",
    "print(\"Número de filas duplicadas en df_aisles:\", len(duplicates_aisles))\n",
    "print(\"Líneas duplicadas en df_aisles:\")\n",
    "print(duplicates_aisles)"
   ]
  },
  {
   "cell_type": "code",
   "execution_count": 90,
   "id": "da7c2822",
   "metadata": {
    "id": "da7c2822"
   },
   "outputs": [
    {
     "name": "stdout",
     "output_type": "stream",
     "text": [
      "\n",
      "Número de IDs duplicados de aisles: 0\n",
      "IDs duplicados de aisles:\n",
      "Empty DataFrame\n",
      "Columns: [aisle_id, aisle]\n",
      "Index: []\n"
     ]
    }
   ],
   "source": [
    "# Revisa únicamente si hay IDs duplicadas de productos\n",
    "duplicate_ids_aisles = df_aisles[df_aisles.duplicated(subset=['aisle_id'], keep=False)]\n",
    "print(\"\\nNúmero de IDs duplicados de aisles:\", len(duplicate_ids_aisles))\n",
    "print(\"IDs duplicados de aisles:\")\n",
    "print(duplicate_ids_aisles)"
   ]
  },
  {
   "cell_type": "markdown",
   "id": "ac63826f",
   "metadata": {
    "id": "ac63826f"
   },
   "source": [
    "Describe brevemente tus hallazgos y lo que hiciste con ellos.\n",
    "\n",
    "En el DataFrame df_aisles, no se encontraron filas totalmente duplicadas ni IDs duplicados en la columna aisle_id. No fue necesario realizar ninguna acción adicional sobre duplicados en este conjunto de datos, ya que no se identificaron problemas en este aspecto."
   ]
  },
  {
   "cell_type": "markdown",
   "id": "274cd06a",
   "metadata": {
    "id": "274cd06a"
   },
   "source": [
    "### `order_products` data frame"
   ]
  },
  {
   "cell_type": "code",
   "execution_count": 91,
   "id": "52326689-84a8-4b8f-a881-7c68780f62c9",
   "metadata": {
    "id": "52326689-84a8-4b8f-a881-7c68780f62c9"
   },
   "outputs": [
    {
     "name": "stdout",
     "output_type": "stream",
     "text": [
      "Número de filas duplicadas en df_order_products: 0\n",
      "Líneas duplicadas en df_order_products:\n",
      "Empty DataFrame\n",
      "Columns: [order_id, product_id, add_to_cart_order, reordered]\n",
      "Index: []\n"
     ]
    }
   ],
   "source": [
    "# Revisar si hay filas totalmente duplicadas en df_order_products\n",
    "duplicates_order_products = df_order_products[df_order_products.duplicated(keep=False)]\n",
    "print(\"Número de filas duplicadas en df_order_products:\", len(duplicates_order_products))\n",
    "print(\"Líneas duplicadas en df_order_products:\")\n",
    "print(duplicates_order_products)"
   ]
  },
  {
   "cell_type": "code",
   "execution_count": 92,
   "id": "7b861391",
   "metadata": {
    "id": "7b861391"
   },
   "outputs": [
    {
     "name": "stdout",
     "output_type": "stream",
     "text": [
      "\n",
      "Número de IDs duplicados de pedidos en df_order_products: 4523160\n",
      "\n",
      "IDs duplicados de pedidos en df_order_products:\n"
     ]
    },
    {
     "data": {
      "text/html": [
       "<div>\n",
       "<style scoped>\n",
       "    .dataframe tbody tr th:only-of-type {\n",
       "        vertical-align: middle;\n",
       "    }\n",
       "\n",
       "    .dataframe tbody tr th {\n",
       "        vertical-align: top;\n",
       "    }\n",
       "\n",
       "    .dataframe thead th {\n",
       "        text-align: right;\n",
       "    }\n",
       "</style>\n",
       "<table border=\"1\" class=\"dataframe\">\n",
       "  <thead>\n",
       "    <tr style=\"text-align: right;\">\n",
       "      <th></th>\n",
       "      <th>order_id</th>\n",
       "      <th>product_id</th>\n",
       "      <th>add_to_cart_order</th>\n",
       "      <th>reordered</th>\n",
       "    </tr>\n",
       "  </thead>\n",
       "  <tbody>\n",
       "    <tr>\n",
       "      <th>0</th>\n",
       "      <td>2141543</td>\n",
       "      <td>11440</td>\n",
       "      <td>17.0</td>\n",
       "      <td>0</td>\n",
       "    </tr>\n",
       "    <tr>\n",
       "      <th>1</th>\n",
       "      <td>567889</td>\n",
       "      <td>1560</td>\n",
       "      <td>1.0</td>\n",
       "      <td>1</td>\n",
       "    </tr>\n",
       "    <tr>\n",
       "      <th>2</th>\n",
       "      <td>2261212</td>\n",
       "      <td>26683</td>\n",
       "      <td>1.0</td>\n",
       "      <td>1</td>\n",
       "    </tr>\n",
       "    <tr>\n",
       "      <th>3</th>\n",
       "      <td>491251</td>\n",
       "      <td>8670</td>\n",
       "      <td>35.0</td>\n",
       "      <td>1</td>\n",
       "    </tr>\n",
       "    <tr>\n",
       "      <th>4</th>\n",
       "      <td>2571142</td>\n",
       "      <td>1940</td>\n",
       "      <td>5.0</td>\n",
       "      <td>1</td>\n",
       "    </tr>\n",
       "    <tr>\n",
       "      <th>...</th>\n",
       "      <td>...</td>\n",
       "      <td>...</td>\n",
       "      <td>...</td>\n",
       "      <td>...</td>\n",
       "    </tr>\n",
       "    <tr>\n",
       "      <th>4545002</th>\n",
       "      <td>577211</td>\n",
       "      <td>15290</td>\n",
       "      <td>12.0</td>\n",
       "      <td>1</td>\n",
       "    </tr>\n",
       "    <tr>\n",
       "      <th>4545003</th>\n",
       "      <td>1219554</td>\n",
       "      <td>21914</td>\n",
       "      <td>9.0</td>\n",
       "      <td>0</td>\n",
       "    </tr>\n",
       "    <tr>\n",
       "      <th>4545004</th>\n",
       "      <td>692640</td>\n",
       "      <td>47766</td>\n",
       "      <td>4.0</td>\n",
       "      <td>1</td>\n",
       "    </tr>\n",
       "    <tr>\n",
       "      <th>4545005</th>\n",
       "      <td>319435</td>\n",
       "      <td>691</td>\n",
       "      <td>8.0</td>\n",
       "      <td>1</td>\n",
       "    </tr>\n",
       "    <tr>\n",
       "      <th>4545006</th>\n",
       "      <td>1398151</td>\n",
       "      <td>28733</td>\n",
       "      <td>9.0</td>\n",
       "      <td>0</td>\n",
       "    </tr>\n",
       "  </tbody>\n",
       "</table>\n",
       "<p>4523160 rows × 4 columns</p>\n",
       "</div>"
      ],
      "text/plain": [
       "         order_id  product_id  add_to_cart_order  reordered\n",
       "0         2141543       11440               17.0          0\n",
       "1          567889        1560                1.0          1\n",
       "2         2261212       26683                1.0          1\n",
       "3          491251        8670               35.0          1\n",
       "4         2571142        1940                5.0          1\n",
       "...           ...         ...                ...        ...\n",
       "4545002    577211       15290               12.0          1\n",
       "4545003   1219554       21914                9.0          0\n",
       "4545004    692640       47766                4.0          1\n",
       "4545005    319435         691                8.0          1\n",
       "4545006   1398151       28733                9.0          0\n",
       "\n",
       "[4523160 rows x 4 columns]"
      ]
     },
     "metadata": {},
     "output_type": "display_data"
    }
   ],
   "source": [
    "# Revisar únicamente si hay IDs duplicados en df_order_products\n",
    "duplicated_order_ids = df_order_products[df_order_products.duplicated(subset=['order_id'], keep=False)]\n",
    "print(\"\\nNúmero de IDs duplicados de pedidos en df_order_products:\", len(duplicated_order_ids))\n",
    "print()\n",
    "print(\"IDs duplicados de pedidos en df_order_products:\")\n",
    "display(duplicated_order_ids)"
   ]
  },
  {
   "cell_type": "code",
   "execution_count": 93,
   "id": "be74512a",
   "metadata": {},
   "outputs": [
    {
     "name": "stdout",
     "output_type": "stream",
     "text": [
      "Información después de limpiar duplicados en df_order_products:\n",
      "<class 'pandas.core.frame.DataFrame'>\n",
      "Int64Index: 4545007 entries, 0 to 4545006\n",
      "Data columns (total 4 columns):\n",
      " #   Column             Dtype  \n",
      "---  ------             -----  \n",
      " 0   order_id           int64  \n",
      " 1   product_id         int64  \n",
      " 2   add_to_cart_order  float64\n",
      " 3   reordered          int64  \n",
      "dtypes: float64(1), int64(3)\n",
      "memory usage: 173.4 MB\n",
      "None\n",
      "\n",
      "Primeras filas del DataFrame limpio:\n"
     ]
    },
    {
     "data": {
      "text/html": [
       "<div>\n",
       "<style scoped>\n",
       "    .dataframe tbody tr th:only-of-type {\n",
       "        vertical-align: middle;\n",
       "    }\n",
       "\n",
       "    .dataframe tbody tr th {\n",
       "        vertical-align: top;\n",
       "    }\n",
       "\n",
       "    .dataframe thead th {\n",
       "        text-align: right;\n",
       "    }\n",
       "</style>\n",
       "<table border=\"1\" class=\"dataframe\">\n",
       "  <thead>\n",
       "    <tr style=\"text-align: right;\">\n",
       "      <th></th>\n",
       "      <th>order_id</th>\n",
       "      <th>product_id</th>\n",
       "      <th>add_to_cart_order</th>\n",
       "      <th>reordered</th>\n",
       "    </tr>\n",
       "  </thead>\n",
       "  <tbody>\n",
       "    <tr>\n",
       "      <th>0</th>\n",
       "      <td>2141543</td>\n",
       "      <td>11440</td>\n",
       "      <td>17.0</td>\n",
       "      <td>0</td>\n",
       "    </tr>\n",
       "    <tr>\n",
       "      <th>1</th>\n",
       "      <td>567889</td>\n",
       "      <td>1560</td>\n",
       "      <td>1.0</td>\n",
       "      <td>1</td>\n",
       "    </tr>\n",
       "    <tr>\n",
       "      <th>2</th>\n",
       "      <td>2261212</td>\n",
       "      <td>26683</td>\n",
       "      <td>1.0</td>\n",
       "      <td>1</td>\n",
       "    </tr>\n",
       "    <tr>\n",
       "      <th>3</th>\n",
       "      <td>491251</td>\n",
       "      <td>8670</td>\n",
       "      <td>35.0</td>\n",
       "      <td>1</td>\n",
       "    </tr>\n",
       "    <tr>\n",
       "      <th>4</th>\n",
       "      <td>2571142</td>\n",
       "      <td>1940</td>\n",
       "      <td>5.0</td>\n",
       "      <td>1</td>\n",
       "    </tr>\n",
       "  </tbody>\n",
       "</table>\n",
       "</div>"
      ],
      "text/plain": [
       "   order_id  product_id  add_to_cart_order  reordered\n",
       "0   2141543       11440               17.0          0\n",
       "1    567889        1560                1.0          1\n",
       "2   2261212       26683                1.0          1\n",
       "3    491251        8670               35.0          1\n",
       "4   2571142        1940                5.0          1"
      ]
     },
     "metadata": {},
     "output_type": "display_data"
    }
   ],
   "source": [
    "# Limpiar duplicados en df_order_products y reiniciar el índice\n",
    "df_order_products_cleaned = df_order_products.drop_duplicates()\n",
    "\n",
    "# Revisar el resultado después de la limpieza\n",
    "print(\"Información después de limpiar duplicados en df_order_products:\")\n",
    "print(df_order_products_cleaned.info())\n",
    "\n",
    "# Reordenar el índice\n",
    "df_order_products_cleaned.reset_index(drop=True, inplace=True)\n",
    "\n",
    "# Mostrar las primeras filas del DataFrame limpio\n",
    "print(\"\\nPrimeras filas del DataFrame limpio:\")\n",
    "display(df_order_products_cleaned.head())\n"
   ]
  },
  {
   "cell_type": "markdown",
   "id": "0b890492",
   "metadata": {
    "id": "0b890492"
   },
   "source": [
    "Describe brevemente tus hallazgos y lo que hiciste con ellos."
   ]
  },
  {
   "cell_type": "markdown",
   "id": "f17cb8fe",
   "metadata": {},
   "source": [
    "\n",
    "En la revisión del DataFrame df_order_products, se confirmó la ausencia de filas totalmente duplicadas, como se había indicado anteriormente. No obstante, se identificaron 4,523,160 IDs duplicados de pedidos, revelando la presencia de productos duplicados o la inclusión de productos en distintos carritos de compras. Cada fila representa un producto específico dentro de un pedido, y algunos productos pueden repetirse en diferentes pedidos. Para abordar esta situación, se optó por limpiar los duplicados utilizando el método drop_duplicates. Este enfoque permitió conservar la coherencia en la falta de filas duplicadas, mientras se eliminaban los productos duplicados en diversos pedidos. Tras la limpieza, el DataFrame df_order_products_cleaned ahora presenta 4,545,007 entradas únicas, y el índice ha sido reiniciado para garantizar un manejo consistente de los datos en análisis posteriores."
   ]
  },
  {
   "cell_type": "markdown",
   "id": "1e46de76",
   "metadata": {
    "id": "1e46de76"
   },
   "source": [
    "## Encuentra y elimina los valores ausentes\n",
    "\n",
    "Al trabajar con valores duplicados, pudimos observar que también nos falta investigar valores ausentes:\n",
    "\n",
    "* La columna `'product_name'` de la tabla products.\n",
    "* La columna `'days_since_prior_order'` de la tabla orders.\n",
    "* La columna `'add_to_cart_order'` de la tabla order_productos."
   ]
  },
  {
   "cell_type": "markdown",
   "id": "c0aebd78",
   "metadata": {
    "id": "c0aebd78"
   },
   "source": [
    "### `products` data frame"
   ]
  },
  {
   "cell_type": "code",
   "execution_count": 94,
   "id": "fe4a8b0f",
   "metadata": {
    "id": "fe4a8b0f"
   },
   "outputs": [
    {
     "name": "stdout",
     "output_type": "stream",
     "text": [
      "Filas con valores ausentes en 'product_name':\n"
     ]
    },
    {
     "data": {
      "text/html": [
       "<div>\n",
       "<style scoped>\n",
       "    .dataframe tbody tr th:only-of-type {\n",
       "        vertical-align: middle;\n",
       "    }\n",
       "\n",
       "    .dataframe tbody tr th {\n",
       "        vertical-align: top;\n",
       "    }\n",
       "\n",
       "    .dataframe thead th {\n",
       "        text-align: right;\n",
       "    }\n",
       "</style>\n",
       "<table border=\"1\" class=\"dataframe\">\n",
       "  <thead>\n",
       "    <tr style=\"text-align: right;\">\n",
       "      <th></th>\n",
       "      <th>product_id</th>\n",
       "      <th>product_name</th>\n",
       "      <th>aisle_id</th>\n",
       "      <th>department_id</th>\n",
       "    </tr>\n",
       "  </thead>\n",
       "  <tbody>\n",
       "    <tr>\n",
       "      <th>37</th>\n",
       "      <td>38</td>\n",
       "      <td>NaN</td>\n",
       "      <td>100</td>\n",
       "      <td>21</td>\n",
       "    </tr>\n",
       "    <tr>\n",
       "      <th>71</th>\n",
       "      <td>72</td>\n",
       "      <td>NaN</td>\n",
       "      <td>100</td>\n",
       "      <td>21</td>\n",
       "    </tr>\n",
       "    <tr>\n",
       "      <th>109</th>\n",
       "      <td>110</td>\n",
       "      <td>NaN</td>\n",
       "      <td>100</td>\n",
       "      <td>21</td>\n",
       "    </tr>\n",
       "    <tr>\n",
       "      <th>296</th>\n",
       "      <td>297</td>\n",
       "      <td>NaN</td>\n",
       "      <td>100</td>\n",
       "      <td>21</td>\n",
       "    </tr>\n",
       "    <tr>\n",
       "      <th>416</th>\n",
       "      <td>417</td>\n",
       "      <td>NaN</td>\n",
       "      <td>100</td>\n",
       "      <td>21</td>\n",
       "    </tr>\n",
       "    <tr>\n",
       "      <th>...</th>\n",
       "      <td>...</td>\n",
       "      <td>...</td>\n",
       "      <td>...</td>\n",
       "      <td>...</td>\n",
       "    </tr>\n",
       "    <tr>\n",
       "      <th>49552</th>\n",
       "      <td>49553</td>\n",
       "      <td>NaN</td>\n",
       "      <td>100</td>\n",
       "      <td>21</td>\n",
       "    </tr>\n",
       "    <tr>\n",
       "      <th>49574</th>\n",
       "      <td>49575</td>\n",
       "      <td>NaN</td>\n",
       "      <td>100</td>\n",
       "      <td>21</td>\n",
       "    </tr>\n",
       "    <tr>\n",
       "      <th>49640</th>\n",
       "      <td>49641</td>\n",
       "      <td>NaN</td>\n",
       "      <td>100</td>\n",
       "      <td>21</td>\n",
       "    </tr>\n",
       "    <tr>\n",
       "      <th>49663</th>\n",
       "      <td>49664</td>\n",
       "      <td>NaN</td>\n",
       "      <td>100</td>\n",
       "      <td>21</td>\n",
       "    </tr>\n",
       "    <tr>\n",
       "      <th>49668</th>\n",
       "      <td>49669</td>\n",
       "      <td>NaN</td>\n",
       "      <td>100</td>\n",
       "      <td>21</td>\n",
       "    </tr>\n",
       "  </tbody>\n",
       "</table>\n",
       "<p>1258 rows × 4 columns</p>\n",
       "</div>"
      ],
      "text/plain": [
       "       product_id product_name  aisle_id  department_id\n",
       "37             38          NaN       100             21\n",
       "71             72          NaN       100             21\n",
       "109           110          NaN       100             21\n",
       "296           297          NaN       100             21\n",
       "416           417          NaN       100             21\n",
       "...           ...          ...       ...            ...\n",
       "49552       49553          NaN       100             21\n",
       "49574       49575          NaN       100             21\n",
       "49640       49641          NaN       100             21\n",
       "49663       49664          NaN       100             21\n",
       "49668       49669          NaN       100             21\n",
       "\n",
       "[1258 rows x 4 columns]"
      ]
     },
     "metadata": {},
     "output_type": "display_data"
    }
   ],
   "source": [
    "# Encuentra los valores ausentes en la columna 'product_name'\n",
    "missing_product_names = df_products['product_name'].isnull()\n",
    "\n",
    "# Muestra las filas con valores ausentes en 'product_name'\n",
    "print(\"Filas con valores ausentes en 'product_name':\")\n",
    "display(df_products[missing_product_names])"
   ]
  },
  {
   "cell_type": "markdown",
   "id": "-A6x1AbJhjkp",
   "metadata": {
    "id": "-A6x1AbJhjkp"
   },
   "source": [
    "Describe brevemente cuáles son tus hallazgos."
   ]
  },
  {
   "cell_type": "markdown",
   "id": "65521a85",
   "metadata": {},
   "source": [
    "Los resultados indican que hay 1258 filas en el DataFrame df_products donde la columna 'product_name' tiene valores ausentes (NaN). La información faltante en 'product_name' podría deberse a diversas razones, como errores en la recolección de datos, problemas en la migración de datos, o simplemente que algunos productos no tienen un nombre asignado en el conjunto de datos.\n",
    "Podemos considerar eliminar las filas con valores ausentes, sin embargo hay que analizar si estos datos no son esenciales para el análisis o si representan un pequeño porcentaje del conjunto de datos. Por otro lado también se podría imputar los valores faltantes con un valor por defecto, reemplazandolo con la mediana o la media de la columna."
   ]
  },
  {
   "cell_type": "code",
   "execution_count": 95,
   "id": "e96167bc",
   "metadata": {
    "id": "e96167bc"
   },
   "outputs": [],
   "source": [
    "#  ¿Todos los nombres de productos ausentes están relacionados con el pasillo con ID 100?\n"
   ]
  },
  {
   "cell_type": "code",
   "execution_count": 96,
   "id": "8d745e6f",
   "metadata": {},
   "outputs": [
    {
     "name": "stdout",
     "output_type": "stream",
     "text": [
      "Filas con valores ausentes en 'product_name' y pasillo_id igual a 100:\n"
     ]
    },
    {
     "data": {
      "text/html": [
       "<div>\n",
       "<style scoped>\n",
       "    .dataframe tbody tr th:only-of-type {\n",
       "        vertical-align: middle;\n",
       "    }\n",
       "\n",
       "    .dataframe tbody tr th {\n",
       "        vertical-align: top;\n",
       "    }\n",
       "\n",
       "    .dataframe thead th {\n",
       "        text-align: right;\n",
       "    }\n",
       "</style>\n",
       "<table border=\"1\" class=\"dataframe\">\n",
       "  <thead>\n",
       "    <tr style=\"text-align: right;\">\n",
       "      <th></th>\n",
       "      <th>product_id</th>\n",
       "      <th>product_name</th>\n",
       "      <th>aisle_id</th>\n",
       "      <th>department_id</th>\n",
       "    </tr>\n",
       "  </thead>\n",
       "  <tbody>\n",
       "    <tr>\n",
       "      <th>37</th>\n",
       "      <td>38</td>\n",
       "      <td>NaN</td>\n",
       "      <td>100</td>\n",
       "      <td>21</td>\n",
       "    </tr>\n",
       "    <tr>\n",
       "      <th>71</th>\n",
       "      <td>72</td>\n",
       "      <td>NaN</td>\n",
       "      <td>100</td>\n",
       "      <td>21</td>\n",
       "    </tr>\n",
       "    <tr>\n",
       "      <th>109</th>\n",
       "      <td>110</td>\n",
       "      <td>NaN</td>\n",
       "      <td>100</td>\n",
       "      <td>21</td>\n",
       "    </tr>\n",
       "    <tr>\n",
       "      <th>296</th>\n",
       "      <td>297</td>\n",
       "      <td>NaN</td>\n",
       "      <td>100</td>\n",
       "      <td>21</td>\n",
       "    </tr>\n",
       "    <tr>\n",
       "      <th>416</th>\n",
       "      <td>417</td>\n",
       "      <td>NaN</td>\n",
       "      <td>100</td>\n",
       "      <td>21</td>\n",
       "    </tr>\n",
       "    <tr>\n",
       "      <th>...</th>\n",
       "      <td>...</td>\n",
       "      <td>...</td>\n",
       "      <td>...</td>\n",
       "      <td>...</td>\n",
       "    </tr>\n",
       "    <tr>\n",
       "      <th>49552</th>\n",
       "      <td>49553</td>\n",
       "      <td>NaN</td>\n",
       "      <td>100</td>\n",
       "      <td>21</td>\n",
       "    </tr>\n",
       "    <tr>\n",
       "      <th>49574</th>\n",
       "      <td>49575</td>\n",
       "      <td>NaN</td>\n",
       "      <td>100</td>\n",
       "      <td>21</td>\n",
       "    </tr>\n",
       "    <tr>\n",
       "      <th>49640</th>\n",
       "      <td>49641</td>\n",
       "      <td>NaN</td>\n",
       "      <td>100</td>\n",
       "      <td>21</td>\n",
       "    </tr>\n",
       "    <tr>\n",
       "      <th>49663</th>\n",
       "      <td>49664</td>\n",
       "      <td>NaN</td>\n",
       "      <td>100</td>\n",
       "      <td>21</td>\n",
       "    </tr>\n",
       "    <tr>\n",
       "      <th>49668</th>\n",
       "      <td>49669</td>\n",
       "      <td>NaN</td>\n",
       "      <td>100</td>\n",
       "      <td>21</td>\n",
       "    </tr>\n",
       "  </tbody>\n",
       "</table>\n",
       "<p>1258 rows × 4 columns</p>\n",
       "</div>"
      ],
      "text/plain": [
       "       product_id product_name  aisle_id  department_id\n",
       "37             38          NaN       100             21\n",
       "71             72          NaN       100             21\n",
       "109           110          NaN       100             21\n",
       "296           297          NaN       100             21\n",
       "416           417          NaN       100             21\n",
       "...           ...          ...       ...            ...\n",
       "49552       49553          NaN       100             21\n",
       "49574       49575          NaN       100             21\n",
       "49640       49641          NaN       100             21\n",
       "49663       49664          NaN       100             21\n",
       "49668       49669          NaN       100             21\n",
       "\n",
       "[1258 rows x 4 columns]"
      ]
     },
     "metadata": {},
     "output_type": "display_data"
    }
   ],
   "source": [
    "# Filtra las filas con valores ausentes en 'product_name' y pasillo_id igual a 100\n",
    "missing_product_names_aisle_100 = df_products[missing_product_names & (df_products['aisle_id'] == 100)]\n",
    "\n",
    "# Muestra las filas con valores ausentes en 'product_name' y pasillo_id igual a 100\n",
    "print(\"Filas con valores ausentes en 'product_name' y pasillo_id igual a 100:\")\n",
    "display(missing_product_names_aisle_100)\n"
   ]
  },
  {
   "cell_type": "markdown",
   "id": "WRpIfXRphpSL",
   "metadata": {
    "id": "WRpIfXRphpSL"
   },
   "source": [
    "Describe brevemente cuáles son tus hallazgos."
   ]
  },
  {
   "cell_type": "markdown",
   "id": "e72fb938",
   "metadata": {},
   "source": [
    "Los resultados obtenidos al filtrar filas con nombres de productos ausentes (NaN) y pasillo_id igual a 100 revelan que todas estas entradas están asociadas al pasillo con ID 100. Esta consistencia sugiere que la información faltante en los nombres de productos está específicamente vinculada a un pasillo particular en el conjunto de datos, identificado con el ID 100. Este patrón proporciona claridad sobre la ubicación de los valores ausentes y su relación con una categoría específica de pasillo. "
   ]
  },
  {
   "cell_type": "code",
   "execution_count": 97,
   "id": "945c19a3",
   "metadata": {
    "id": "8fd0a541"
   },
   "outputs": [],
   "source": [
    "# ¿Todos los nombres de productos ausentes están relacionados con el departamento con ID 21?\n"
   ]
  },
  {
   "cell_type": "code",
   "execution_count": 98,
   "id": "19ad33bd",
   "metadata": {},
   "outputs": [
    {
     "name": "stdout",
     "output_type": "stream",
     "text": [
      "Filas con valores ausentes en 'product_name' y departamento_id igual a 21:\n"
     ]
    },
    {
     "data": {
      "text/html": [
       "<div>\n",
       "<style scoped>\n",
       "    .dataframe tbody tr th:only-of-type {\n",
       "        vertical-align: middle;\n",
       "    }\n",
       "\n",
       "    .dataframe tbody tr th {\n",
       "        vertical-align: top;\n",
       "    }\n",
       "\n",
       "    .dataframe thead th {\n",
       "        text-align: right;\n",
       "    }\n",
       "</style>\n",
       "<table border=\"1\" class=\"dataframe\">\n",
       "  <thead>\n",
       "    <tr style=\"text-align: right;\">\n",
       "      <th></th>\n",
       "      <th>product_id</th>\n",
       "      <th>product_name</th>\n",
       "      <th>aisle_id</th>\n",
       "      <th>department_id</th>\n",
       "    </tr>\n",
       "  </thead>\n",
       "  <tbody>\n",
       "    <tr>\n",
       "      <th>37</th>\n",
       "      <td>38</td>\n",
       "      <td>NaN</td>\n",
       "      <td>100</td>\n",
       "      <td>21</td>\n",
       "    </tr>\n",
       "    <tr>\n",
       "      <th>71</th>\n",
       "      <td>72</td>\n",
       "      <td>NaN</td>\n",
       "      <td>100</td>\n",
       "      <td>21</td>\n",
       "    </tr>\n",
       "    <tr>\n",
       "      <th>109</th>\n",
       "      <td>110</td>\n",
       "      <td>NaN</td>\n",
       "      <td>100</td>\n",
       "      <td>21</td>\n",
       "    </tr>\n",
       "    <tr>\n",
       "      <th>296</th>\n",
       "      <td>297</td>\n",
       "      <td>NaN</td>\n",
       "      <td>100</td>\n",
       "      <td>21</td>\n",
       "    </tr>\n",
       "    <tr>\n",
       "      <th>416</th>\n",
       "      <td>417</td>\n",
       "      <td>NaN</td>\n",
       "      <td>100</td>\n",
       "      <td>21</td>\n",
       "    </tr>\n",
       "    <tr>\n",
       "      <th>...</th>\n",
       "      <td>...</td>\n",
       "      <td>...</td>\n",
       "      <td>...</td>\n",
       "      <td>...</td>\n",
       "    </tr>\n",
       "    <tr>\n",
       "      <th>49552</th>\n",
       "      <td>49553</td>\n",
       "      <td>NaN</td>\n",
       "      <td>100</td>\n",
       "      <td>21</td>\n",
       "    </tr>\n",
       "    <tr>\n",
       "      <th>49574</th>\n",
       "      <td>49575</td>\n",
       "      <td>NaN</td>\n",
       "      <td>100</td>\n",
       "      <td>21</td>\n",
       "    </tr>\n",
       "    <tr>\n",
       "      <th>49640</th>\n",
       "      <td>49641</td>\n",
       "      <td>NaN</td>\n",
       "      <td>100</td>\n",
       "      <td>21</td>\n",
       "    </tr>\n",
       "    <tr>\n",
       "      <th>49663</th>\n",
       "      <td>49664</td>\n",
       "      <td>NaN</td>\n",
       "      <td>100</td>\n",
       "      <td>21</td>\n",
       "    </tr>\n",
       "    <tr>\n",
       "      <th>49668</th>\n",
       "      <td>49669</td>\n",
       "      <td>NaN</td>\n",
       "      <td>100</td>\n",
       "      <td>21</td>\n",
       "    </tr>\n",
       "  </tbody>\n",
       "</table>\n",
       "<p>1258 rows × 4 columns</p>\n",
       "</div>"
      ],
      "text/plain": [
       "       product_id product_name  aisle_id  department_id\n",
       "37             38          NaN       100             21\n",
       "71             72          NaN       100             21\n",
       "109           110          NaN       100             21\n",
       "296           297          NaN       100             21\n",
       "416           417          NaN       100             21\n",
       "...           ...          ...       ...            ...\n",
       "49552       49553          NaN       100             21\n",
       "49574       49575          NaN       100             21\n",
       "49640       49641          NaN       100             21\n",
       "49663       49664          NaN       100             21\n",
       "49668       49669          NaN       100             21\n",
       "\n",
       "[1258 rows x 4 columns]"
      ]
     },
     "metadata": {},
     "output_type": "display_data"
    }
   ],
   "source": [
    "# Filtra las filas con valores ausentes en 'product_name' y departamento_id igual a 21\n",
    "missing_product_names_department_21 = df_products[missing_product_names & (df_products['department_id'] == 21)]\n",
    "\n",
    "# Muestra las filas resultantes\n",
    "print(\"Filas con valores ausentes en 'product_name' y departamento_id igual a 21:\")\n",
    "display(missing_product_names_department_21)"
   ]
  },
  {
   "cell_type": "markdown",
   "id": "338b4893",
   "metadata": {},
   "source": [
    "En la exploración de los datos, se confirma que todas las filas con nombres de productos ausentes (NaN) en el DataFrame df_products están vinculadas al departamento con ID 21. La ausencia de nombres de productos se observa tanto en el pasillo con ID 100 como en el departamento con ID 21. La metodología seguida para llegar a esta conclusión implicó filtrar las filas con valores ausentes en 'product_name' y, adicionalmente, verificar si estas filas tenían un departamento_id igual a 21. Estos hallazgos sugieren que la falta de nombres de productos es específica de ciertos pasillos y departamentos en el conjunto de datos. Este patrón podría ser útil para comprender la estructura de los datos y abordar futuros procesos de limpieza o imputación de valores faltantes."
   ]
  },
  {
   "cell_type": "code",
   "execution_count": 99,
   "id": "325c3464",
   "metadata": {
    "id": "325c3464"
   },
   "outputs": [],
   "source": [
    "# Usa las tablas department y aisle para revisar los datos del pasillo con ID 100 y el departamento con ID 21.\n"
   ]
  },
  {
   "cell_type": "code",
   "execution_count": 100,
   "id": "09b99df6",
   "metadata": {},
   "outputs": [
    {
     "name": "stdout",
     "output_type": "stream",
     "text": [
      "Información sobre el pasillo con ID 100:\n",
      "    aisle_id    aisle\n",
      "99       100  missing\n",
      "\n",
      "Información sobre el departamento con ID 21:\n",
      "    department_id department\n",
      "20             21    missing\n"
     ]
    }
   ],
   "source": [
    "# Información sobre el pasillo con ID 100\n",
    "aisle_info = df_aisles[df_aisles['aisle_id'] == 100]\n",
    "print(\"Información sobre el pasillo con ID 100:\")\n",
    "print(aisle_info)\n",
    "\n",
    "# Información sobre el departamento con ID 21\n",
    "department_info = df_departments[df_departments['department_id'] == 21]\n",
    "print(\"\\nInformación sobre el departamento con ID 21:\")\n",
    "print(department_info)"
   ]
  },
  {
   "cell_type": "markdown",
   "id": "nqhSTUPhhvEJ",
   "metadata": {
    "id": "nqhSTUPhhvEJ"
   },
   "source": [
    "Describe brevemente cuáles son tus hallazgos."
   ]
  },
  {
   "cell_type": "markdown",
   "id": "26956fff",
   "metadata": {},
   "source": [
    "Los resultados indican que tanto el pasillo con ID 100 como el departamento con ID 21 tienen la etiqueta \"missing\". Esto sugiere que las entradas con valores ausentes en la columna 'product_name' en la tabla 'products' están asociadas a estos identificadores. La presencia de la etiqueta \"missing\" puede ser una forma de manejar valores nulos o desconocidos en estos conjuntos de datos. "
   ]
  },
  {
   "cell_type": "code",
   "execution_count": 101,
   "id": "6b295120",
   "metadata": {
    "id": "6b295120"
   },
   "outputs": [],
   "source": [
    "# Completa los nombres de productos ausentes con 'Unknown'\n"
   ]
  },
  {
   "cell_type": "code",
   "execution_count": 102,
   "id": "4757a7b9",
   "metadata": {},
   "outputs": [],
   "source": [
    "# Completa los nombres de productos ausentes con 'Unknown'\n",
    "df_products['product_name'].fillna('Unknown', inplace=True)"
   ]
  },
  {
   "cell_type": "code",
   "execution_count": 103,
   "id": "ca8fb2b0",
   "metadata": {},
   "outputs": [
    {
     "data": {
      "text/html": [
       "<div>\n",
       "<style scoped>\n",
       "    .dataframe tbody tr th:only-of-type {\n",
       "        vertical-align: middle;\n",
       "    }\n",
       "\n",
       "    .dataframe tbody tr th {\n",
       "        vertical-align: top;\n",
       "    }\n",
       "\n",
       "    .dataframe thead th {\n",
       "        text-align: right;\n",
       "    }\n",
       "</style>\n",
       "<table border=\"1\" class=\"dataframe\">\n",
       "  <thead>\n",
       "    <tr style=\"text-align: right;\">\n",
       "      <th></th>\n",
       "      <th>product_id</th>\n",
       "      <th>product_name</th>\n",
       "      <th>aisle_id</th>\n",
       "      <th>department_id</th>\n",
       "    </tr>\n",
       "  </thead>\n",
       "  <tbody>\n",
       "    <tr>\n",
       "      <th>19683</th>\n",
       "      <td>19684</td>\n",
       "      <td>Unknown</td>\n",
       "      <td>100</td>\n",
       "      <td>21</td>\n",
       "    </tr>\n",
       "    <tr>\n",
       "      <th>6852</th>\n",
       "      <td>6853</td>\n",
       "      <td>Unknown</td>\n",
       "      <td>100</td>\n",
       "      <td>21</td>\n",
       "    </tr>\n",
       "    <tr>\n",
       "      <th>40094</th>\n",
       "      <td>40095</td>\n",
       "      <td>Unknown</td>\n",
       "      <td>100</td>\n",
       "      <td>21</td>\n",
       "    </tr>\n",
       "    <tr>\n",
       "      <th>41936</th>\n",
       "      <td>41937</td>\n",
       "      <td>Unknown</td>\n",
       "      <td>100</td>\n",
       "      <td>21</td>\n",
       "    </tr>\n",
       "    <tr>\n",
       "      <th>1282</th>\n",
       "      <td>1283</td>\n",
       "      <td>Unknown</td>\n",
       "      <td>100</td>\n",
       "      <td>21</td>\n",
       "    </tr>\n",
       "    <tr>\n",
       "      <th>24027</th>\n",
       "      <td>24028</td>\n",
       "      <td>Unknown</td>\n",
       "      <td>100</td>\n",
       "      <td>21</td>\n",
       "    </tr>\n",
       "  </tbody>\n",
       "</table>\n",
       "</div>"
      ],
      "text/plain": [
       "       product_id product_name  aisle_id  department_id\n",
       "19683       19684      Unknown       100             21\n",
       "6852         6853      Unknown       100             21\n",
       "40094       40095      Unknown       100             21\n",
       "41936       41937      Unknown       100             21\n",
       "1282         1283      Unknown       100             21\n",
       "24027       24028      Unknown       100             21"
      ]
     },
     "metadata": {},
     "output_type": "display_data"
    }
   ],
   "source": [
    "# Verifica que los valores nulos en 'product_name' se han llenado con 'Unknown'\n",
    "missing_products = df_products[df_products['product_name'] == 'Unknown']\n",
    "\n",
    "# Muestra las primeras filas de los productos con 'Unknown' en 'product_name'\n",
    "display(missing_products.sample(6))\n"
   ]
  },
  {
   "cell_type": "markdown",
   "id": "fc70e5ad",
   "metadata": {
    "id": "fc70e5ad"
   },
   "source": [
    "Describe brevemente tus hallazgos y lo que hiciste con ellos."
   ]
  },
  {
   "cell_type": "markdown",
   "id": "fc82579c",
   "metadata": {},
   "source": [
    "Los resultados muestran que los valores nulos en la columna 'product_name' han sido correctamente llenados con 'Unknown', ya que ahora aparecen como \"Unknown\" en lugar de NaN. Con esto aseguramos que los registros tengan información en la columna 'product_name' y asi podemos analizar y visualizr los datos."
   ]
  },
  {
   "cell_type": "markdown",
   "id": "7eb45c86",
   "metadata": {
    "id": "7eb45c86"
   },
   "source": [
    "### `orders` data frame"
   ]
  },
  {
   "cell_type": "code",
   "execution_count": 104,
   "id": "eeaabf33",
   "metadata": {},
   "outputs": [],
   "source": [
    "# Encuentra los valores ausentes"
   ]
  },
  {
   "cell_type": "code",
   "execution_count": 105,
   "id": "93e41d96",
   "metadata": {
    "id": "93e41d96"
   },
   "outputs": [
    {
     "name": "stdout",
     "output_type": "stream",
     "text": [
      "Filas con valores ausentes en 'orders':\n"
     ]
    },
    {
     "data": {
      "text/html": [
       "<div>\n",
       "<style scoped>\n",
       "    .dataframe tbody tr th:only-of-type {\n",
       "        vertical-align: middle;\n",
       "    }\n",
       "\n",
       "    .dataframe tbody tr th {\n",
       "        vertical-align: top;\n",
       "    }\n",
       "\n",
       "    .dataframe thead th {\n",
       "        text-align: right;\n",
       "    }\n",
       "</style>\n",
       "<table border=\"1\" class=\"dataframe\">\n",
       "  <thead>\n",
       "    <tr style=\"text-align: right;\">\n",
       "      <th></th>\n",
       "      <th>order_id</th>\n",
       "      <th>user_id</th>\n",
       "      <th>order_number</th>\n",
       "      <th>order_dow</th>\n",
       "      <th>order_hour_of_day</th>\n",
       "      <th>days_since_prior_order</th>\n",
       "    </tr>\n",
       "  </thead>\n",
       "  <tbody>\n",
       "    <tr>\n",
       "      <th>28</th>\n",
       "      <td>133707</td>\n",
       "      <td>182261</td>\n",
       "      <td>1</td>\n",
       "      <td>3</td>\n",
       "      <td>10</td>\n",
       "      <td>NaN</td>\n",
       "    </tr>\n",
       "    <tr>\n",
       "      <th>96</th>\n",
       "      <td>787445</td>\n",
       "      <td>25685</td>\n",
       "      <td>1</td>\n",
       "      <td>6</td>\n",
       "      <td>18</td>\n",
       "      <td>NaN</td>\n",
       "    </tr>\n",
       "    <tr>\n",
       "      <th>100</th>\n",
       "      <td>294410</td>\n",
       "      <td>111449</td>\n",
       "      <td>1</td>\n",
       "      <td>0</td>\n",
       "      <td>19</td>\n",
       "      <td>NaN</td>\n",
       "    </tr>\n",
       "    <tr>\n",
       "      <th>103</th>\n",
       "      <td>2869915</td>\n",
       "      <td>123958</td>\n",
       "      <td>1</td>\n",
       "      <td>4</td>\n",
       "      <td>16</td>\n",
       "      <td>NaN</td>\n",
       "    </tr>\n",
       "    <tr>\n",
       "      <th>104</th>\n",
       "      <td>2521921</td>\n",
       "      <td>42286</td>\n",
       "      <td>1</td>\n",
       "      <td>3</td>\n",
       "      <td>18</td>\n",
       "      <td>NaN</td>\n",
       "    </tr>\n",
       "    <tr>\n",
       "      <th>...</th>\n",
       "      <td>...</td>\n",
       "      <td>...</td>\n",
       "      <td>...</td>\n",
       "      <td>...</td>\n",
       "      <td>...</td>\n",
       "      <td>...</td>\n",
       "    </tr>\n",
       "    <tr>\n",
       "      <th>478895</th>\n",
       "      <td>2589657</td>\n",
       "      <td>205028</td>\n",
       "      <td>1</td>\n",
       "      <td>0</td>\n",
       "      <td>16</td>\n",
       "      <td>NaN</td>\n",
       "    </tr>\n",
       "    <tr>\n",
       "      <th>478896</th>\n",
       "      <td>2222353</td>\n",
       "      <td>141211</td>\n",
       "      <td>1</td>\n",
       "      <td>2</td>\n",
       "      <td>13</td>\n",
       "      <td>NaN</td>\n",
       "    </tr>\n",
       "    <tr>\n",
       "      <th>478922</th>\n",
       "      <td>2272807</td>\n",
       "      <td>204154</td>\n",
       "      <td>1</td>\n",
       "      <td>1</td>\n",
       "      <td>15</td>\n",
       "      <td>NaN</td>\n",
       "    </tr>\n",
       "    <tr>\n",
       "      <th>478926</th>\n",
       "      <td>2499542</td>\n",
       "      <td>68810</td>\n",
       "      <td>1</td>\n",
       "      <td>4</td>\n",
       "      <td>19</td>\n",
       "      <td>NaN</td>\n",
       "    </tr>\n",
       "    <tr>\n",
       "      <th>478945</th>\n",
       "      <td>1387033</td>\n",
       "      <td>22496</td>\n",
       "      <td>1</td>\n",
       "      <td>5</td>\n",
       "      <td>14</td>\n",
       "      <td>NaN</td>\n",
       "    </tr>\n",
       "  </tbody>\n",
       "</table>\n",
       "<p>28819 rows × 6 columns</p>\n",
       "</div>"
      ],
      "text/plain": [
       "        order_id  user_id  order_number  order_dow  order_hour_of_day  \\\n",
       "28        133707   182261             1          3                 10   \n",
       "96        787445    25685             1          6                 18   \n",
       "100       294410   111449             1          0                 19   \n",
       "103      2869915   123958             1          4                 16   \n",
       "104      2521921    42286             1          3                 18   \n",
       "...          ...      ...           ...        ...                ...   \n",
       "478895   2589657   205028             1          0                 16   \n",
       "478896   2222353   141211             1          2                 13   \n",
       "478922   2272807   204154             1          1                 15   \n",
       "478926   2499542    68810             1          4                 19   \n",
       "478945   1387033    22496             1          5                 14   \n",
       "\n",
       "        days_since_prior_order  \n",
       "28                         NaN  \n",
       "96                         NaN  \n",
       "100                        NaN  \n",
       "103                        NaN  \n",
       "104                        NaN  \n",
       "...                        ...  \n",
       "478895                     NaN  \n",
       "478896                     NaN  \n",
       "478922                     NaN  \n",
       "478926                     NaN  \n",
       "478945                     NaN  \n",
       "\n",
       "[28819 rows x 6 columns]"
      ]
     },
     "metadata": {},
     "output_type": "display_data"
    }
   ],
   "source": [
    "# Encuentra los valores ausentes en el DataFrame 'orders'\n",
    "missing_values_orders = df_orders[df_orders.isnull().any(axis=1)]\n",
    "\n",
    "# Muestra las filas con valores ausentes en 'orders'\n",
    "print(\"Filas con valores ausentes en 'orders':\")\n",
    "display(missing_values_orders)"
   ]
  },
  {
   "cell_type": "code",
   "execution_count": 106,
   "id": "166e5a86",
   "metadata": {
    "id": "166e5a86"
   },
   "outputs": [],
   "source": [
    "# ¿Hay algún valor ausente que no sea el primer pedido del cliente?\n"
   ]
  },
  {
   "cell_type": "code",
   "execution_count": 107,
   "id": "904f7ab2",
   "metadata": {},
   "outputs": [
    {
     "name": "stdout",
     "output_type": "stream",
     "text": [
      "Pedidos que no son el primer pedido del cliente y tienen 'days_since_prior_order' nulo:\n",
      "Empty DataFrame\n",
      "Columns: [order_id, user_id, order_number, order_dow, order_hour_of_day, days_since_prior_order]\n",
      "Index: []\n"
     ]
    }
   ],
   "source": [
    "# Filtrar para encontrar pedidos que no son el primer pedido del cliente y tienen 'days_since_prior_order' nulo\n",
    "missing_values_not_first_order = missing_values_orders[missing_values_orders['order_number'] != 1]\n",
    "\n",
    "# Mostrar los resultados\n",
    "print(\"Pedidos que no son el primer pedido del cliente y tienen 'days_since_prior_order' nulo:\")\n",
    "print(missing_values_not_first_order)"
   ]
  },
  {
   "cell_type": "markdown",
   "id": "4e23d089",
   "metadata": {
    "id": "4e23d089"
   },
   "source": [
    "Describe brevemente tus hallazgos y lo que hiciste con ellos."
   ]
  },
  {
   "cell_type": "markdown",
   "id": "a1d24747",
   "metadata": {},
   "source": [
    "Se identificaron 28,819 filas con valores ausentes en la columna 'days_since_prior_order'. La ausencia de valores en 'days_since_prior_order' indica que estos pedidos son el primer pedido del cliente, ya que no hay pedidos previos para calcular la diferencia en días. Esto indica que no se encontraron pedidos que no fueran el primer pedido del cliente y tuvieran un valor ausente en 'days_since_prior_order'.\n",
    "\n",
    "Para abordar los valores ausentes en 'days_since_prior_order' para el primer pedido del cliente, se decidió llenar esos valores con 0 para indicar que no hay días entre este pedido y el supuesto pedido anterior (que no existe)."
   ]
  },
  {
   "cell_type": "markdown",
   "id": "69dc9ca4",
   "metadata": {
    "id": "69dc9ca4"
   },
   "source": [
    "### `order_products` data frame"
   ]
  },
  {
   "cell_type": "code",
   "execution_count": 108,
   "id": "b8240253",
   "metadata": {
    "id": "b8240253"
   },
   "outputs": [],
   "source": [
    "# Encuentra los valores ausentes"
   ]
  },
  {
   "cell_type": "code",
   "execution_count": 109,
   "id": "4a34f28b",
   "metadata": {},
   "outputs": [
    {
     "name": "stdout",
     "output_type": "stream",
     "text": [
      "Valores ausentes en order_products:\n",
      "order_id               0\n",
      "product_id             0\n",
      "add_to_cart_order    836\n",
      "reordered              0\n",
      "dtype: int64\n"
     ]
    }
   ],
   "source": [
    "# Encuentra los valores ausentes en order_products\n",
    "missing_values_order_products = df_order_products.isnull().sum()\n",
    "\n",
    "# Imprime los resultados\n",
    "print(\"Valores ausentes en order_products:\")\n",
    "print(missing_values_order_products)"
   ]
  },
  {
   "cell_type": "code",
   "execution_count": 110,
   "id": "9a78e5ee",
   "metadata": {
    "id": "9a78e5ee"
   },
   "outputs": [],
   "source": [
    "# ¿Cuáles son los valores mínimos y máximos en esta columna?\n"
   ]
  },
  {
   "cell_type": "code",
   "execution_count": 111,
   "id": "e1fc087e",
   "metadata": {},
   "outputs": [
    {
     "name": "stdout",
     "output_type": "stream",
     "text": [
      "Valor mínimo: 1.0\n",
      "Valor máximo: 64.0\n"
     ]
    }
   ],
   "source": [
    "min_value = df_order_products['add_to_cart_order'].min()\n",
    "max_value = df_order_products['add_to_cart_order'].max()\n",
    "\n",
    "print(f\"Valor mínimo: {min_value}\")\n",
    "print(f\"Valor máximo: {max_value}\")\n"
   ]
  },
  {
   "cell_type": "markdown",
   "id": "-Z2Ja215jW78",
   "metadata": {
    "id": "-Z2Ja215jW78"
   },
   "source": [
    "Describe brevemente cuáles son tus hallazgos."
   ]
  },
  {
   "cell_type": "markdown",
   "id": "aef54a44",
   "metadata": {},
   "source": [
    "Los valores ausentes se encuentran en la columna 'add_to_cart_order' del DataFrame 'order_products'. Hay 836 valores ausentes en esa columna. Además, hemos identificado que los valores en la columna 'add_to_cart_order' varían entre 1 y 64, con un valor mínimo de 1 y un valor máximo de 64."
   ]
  },
  {
   "cell_type": "code",
   "execution_count": 112,
   "id": "ab9d0c2b",
   "metadata": {
    "id": "ab9d0c2b"
   },
   "outputs": [],
   "source": [
    "# Guarda todas las IDs de pedidos que tengan un valor ausente en 'add_to_cart_order'\n"
   ]
  },
  {
   "cell_type": "code",
   "execution_count": 113,
   "id": "a1c03332",
   "metadata": {},
   "outputs": [],
   "source": [
    "orders_with_missing_add_to_cart_order = df_order_products[df_order_products['add_to_cart_order'].isnull()]['order_id'].unique()\n"
   ]
  },
  {
   "cell_type": "code",
   "execution_count": 114,
   "id": "54c31695",
   "metadata": {
    "id": "54c31695"
   },
   "outputs": [],
   "source": [
    "# ¿Todos los pedidos con valores ausentes tienen más de 64 productos?\n",
    "# Agrupa todos los pedidos con datos ausentes por su ID de pedido.\n",
    "# Cuenta el número de 'product_id' en cada pedido y revisa el valor mínimo del conteo.\n"
   ]
  },
  {
   "cell_type": "code",
   "execution_count": 115,
   "id": "f61bb287",
   "metadata": {},
   "outputs": [
    {
     "name": "stdout",
     "output_type": "stream",
     "text": [
      "Número mínimo de productos en pedidos con 'add_to_cart_order' ausente: 65\n"
     ]
    }
   ],
   "source": [
    "missing_add_to_cart_order_counts = df_order_products[df_order_products['order_id'].isin(orders_with_missing_add_to_cart_order)].groupby('order_id')['product_id'].count()\n",
    "\n",
    "min_count = missing_add_to_cart_order_counts.min()\n",
    "\n",
    "print(\"Número mínimo de productos en pedidos con 'add_to_cart_order' ausente:\", min_count)"
   ]
  },
  {
   "cell_type": "markdown",
   "id": "p9V6pddtjglj",
   "metadata": {
    "id": "p9V6pddtjglj"
   },
   "source": [
    "Describe brevemente cuáles son tus hallazgos."
   ]
  },
  {
   "cell_type": "markdown",
   "id": "2241481e",
   "metadata": {},
   "source": [
    "En el dataframe order_products, se encontraron valores ausentes en la columna add_to_cart_order (836 valores ausentes). Estos valores ausentes se encuentran en pedidos que tienen más de 64 productos en el carrito."
   ]
  },
  {
   "cell_type": "code",
   "execution_count": 116,
   "id": "7a987d08",
   "metadata": {
    "id": "7a987d08"
   },
   "outputs": [],
   "source": [
    "# Remplaza los valores ausentes en la columna 'add_to_cart? con 999 y convierte la columna al tipo entero.\n"
   ]
  },
  {
   "cell_type": "code",
   "execution_count": 117,
   "id": "5ad7623a",
   "metadata": {},
   "outputs": [],
   "source": [
    "# Reemplazar valores ausentes con 999 en 'add_to_cart_order'\n",
    "df_order_products['add_to_cart_order'].fillna(999, inplace=True)\n",
    "\n",
    "# Convertir la columna 'add_to_cart_order' al tipo entero\n",
    "df_order_products['add_to_cart_order'] = df_order_products['add_to_cart_order'].astype(int)"
   ]
  },
  {
   "cell_type": "code",
   "execution_count": 118,
   "id": "bb5e7f98",
   "metadata": {},
   "outputs": [
    {
     "name": "stdout",
     "output_type": "stream",
     "text": [
      "Valores ausentes en order_products:\n",
      "order_id             0\n",
      "product_id           0\n",
      "add_to_cart_order    0\n",
      "reordered            0\n",
      "dtype: int64\n"
     ]
    }
   ],
   "source": [
    "# volver a buscar los valores ausentes en order_products\n",
    "missing_values_order_products = df_order_products.isnull().sum()\n",
    "\n",
    "# Imprime los resultados\n",
    "print(\"Valores ausentes en order_products:\")\n",
    "print(missing_values_order_products)"
   ]
  },
  {
   "cell_type": "markdown",
   "id": "fea4bcc7",
   "metadata": {
    "id": "fea4bcc7"
   },
   "source": [
    "Describe brevemente tus hallazgos y lo que hiciste con ellos."
   ]
  },
  {
   "cell_type": "markdown",
   "id": "b49afc4c",
   "metadata": {},
   "source": [
    "Se reemplazaron los valores ausentes en la columna 'add_to_cart_order' del dataframe order_products con 999. La columna 'add_to_cart_order' se convirtió al tipo de dato entero para asegurar coherencia en los tipos de datos. Después de realizar estas operaciones, se volvió a verificar la presencia de valores ausentes en el dataframe order_products. No se encontraron más valores ausentes en ninguna columna después de la imputación."
   ]
  },
  {
   "cell_type": "markdown",
   "id": "RnplPFY1gSrb",
   "metadata": {
    "id": "RnplPFY1gSrb"
   },
   "source": [
    "## Conclusiones\n",
    "\n",
    "Escribe aquí tus conclusiones intermedias sobre el Paso 2. Preprocesamiento de los datos\n"
   ]
  },
  {
   "cell_type": "markdown",
   "id": "37d09e14",
   "metadata": {},
   "source": [
    "Se llevaron a cabo diversas acciones para mejorar la integridad y la coherencia de los conjuntos de datos. En primer lugar, se corrigieron los tipos de datos en los dataframes, asegurándose de que se alinearan adecuadamente con la naturaleza de sus respectivas columnas, como la conversión de las columnas de ID a tipo entero. Luego, se abordaron los valores duplicados en los dataframes orders, products y order_products, identificándolos y eliminándolos para garantizar la unicidad de las entradas. En el dataframe orders, se eliminaron 15 filas duplicadas. La gestión de valores ausentes se abordó en los dataframes products, orders y order_products. Se completaron nombres de productos ausentes en el pasillo y departamento de products con \"Unknown\", y en order_products, los valores ausentes en 'add_to_cart_order' se imputaron con 999 y se convirtieron al tipo entero. Además, se manejaron duplicados engañosos en nombres de productos en products, resolviéndolos mediante la conversión a mayúsculas y la eliminación de filas duplicadas resultantes. Estas acciones contribuyeron a mejorar la calidad y la coherencia de los conjuntos de datos."
   ]
  },
  {
   "cell_type": "markdown",
   "id": "UjrOIwTcz3ri",
   "metadata": {
    "id": "UjrOIwTcz3ri"
   },
   "source": [
    "# Paso 3. Análisis de los datos\n",
    "\n",
    "Una vez los datos estén procesados y listos, haz el siguiente análisis:"
   ]
  },
  {
   "cell_type": "markdown",
   "id": "turkish-kidney",
   "metadata": {
    "id": "turkish-kidney"
   },
   "source": [
    "# [A] Fácil (deben completarse todos para aprobar)\n",
    "\n",
    "1. Verifica que los valores en las columnas `'order_hour_of_day'` y `'order_dow'` en la tabla orders sean razonables (es decir, `'order_hour_of_day'` oscile entre 0 y 23 y `'order_dow'` oscile entre 0 y 6).\n",
    "2. Crea un gráfico que muestre el número de personas que hacen pedidos dependiendo de la hora del día.\n",
    "3. Crea un gráfico que muestre qué día de la semana la gente hace sus compras.\n",
    "4. Crea un gráfico que muestre el tiempo que la gente espera hasta hacer su siguiente pedido, y comenta sobre los valores mínimos y máximos."
   ]
  },
  {
   "cell_type": "markdown",
   "id": "short-capability",
   "metadata": {
    "id": "short-capability"
   },
   "source": [
    "### [A1] Verifica que los valores sean sensibles"
   ]
  },
  {
   "cell_type": "code",
   "execution_count": 119,
   "id": "growing-fruit",
   "metadata": {
    "id": "growing-fruit"
   },
   "outputs": [
    {
     "name": "stdout",
     "output_type": "stream",
     "text": [
      "Valores únicos en 'order_hour_of_day': [0, 1, 2, 3, 4, 5, 6, 7, 8, 9, 10, 11, 12, 13, 14, 15, 16, 17, 18, 19, 20, 21, 22, 23]\n"
     ]
    }
   ],
   "source": [
    "# Verificación de 'order_hour_of_day'\n",
    "print(\"Valores únicos en 'order_hour_of_day':\", sorted(df_orders['order_hour_of_day'].unique()))\n"
   ]
  },
  {
   "cell_type": "code",
   "execution_count": 120,
   "id": "accessory-malaysia",
   "metadata": {
    "id": "accessory-malaysia"
   },
   "outputs": [
    {
     "name": "stdout",
     "output_type": "stream",
     "text": [
      "Valores únicos en 'order_dow': [0, 1, 2, 3, 4, 5, 6]\n"
     ]
    }
   ],
   "source": [
    "# Verificación de 'order_dow'\n",
    "print(\"Valores únicos en 'order_dow':\", sorted(df_orders['order_dow'].unique()))"
   ]
  },
  {
   "cell_type": "markdown",
   "id": "hmR2GNQ6lCsX",
   "metadata": {
    "id": "hmR2GNQ6lCsX"
   },
   "source": [
    "Escribe aquí tus conclusiones"
   ]
  },
  {
   "cell_type": "markdown",
   "id": "b01de860",
   "metadata": {},
   "source": [
    "Se llevó a cabo una exhaustiva revisión de las columnas 'order_hour_of_day' y 'order_dow' en la tabla 'orders', y los resultados confirman la coherencia y la integridad de los datos en estas columnas. En el caso de 'order_hour_of_day', se observó que todos los valores son números enteros comprendidos entre 0 y 23, en concordancia con las horas en un día estándar. No se identificaron valores atípicos ni fuera de este rango, asegurando la consistencia de la información temporal. Similarmente, en relación con 'order_dow', todos los valores son números enteros entre 0 y 6, correspondientes a los días de la semana, desde domingo hasta sábado. La ausencia de valores fuera de este conjunto refuerza la fiabilidad de los datos en estas columnas. Estos hallazgos respaldan la confianza en la calidad de los datos, proporcionando una base sólida para análisis futuros centrados en la temporalidad de los pedidos, sin preocupaciones por anomalías o inconsistencias."
   ]
  },
  {
   "cell_type": "markdown",
   "id": "a6743a70",
   "metadata": {
    "id": "a6743a70"
   },
   "source": [
    "### [A2] Para cada hora del día, ¿cuántas personas hacen órdenes?"
   ]
  },
  {
   "cell_type": "code",
   "execution_count": 121,
   "id": "a36cca27",
   "metadata": {
    "id": "a36cca27"
   },
   "outputs": [
    {
     "data": {
      "image/png": "[encoded data removed]",
      "text/plain": [
       "<Figure size 720x432 with 1 Axes>"
      ]
     },
     "metadata": {
      "needs_background": "light"
     },
     "output_type": "display_data"
    }
   ],
   "source": [
    "df_orders['order_hour_of_day'].value_counts().sort_index().plot(\n",
    "    kind='bar',\n",
    "    title='Número de Pedidos según la Hora del Día',\n",
    "    xlabel='Hora del Día (24 h)',\n",
    "    ylabel='Número de Pedidos',\n",
    "    legend=False,\n",
    "    grid=True,\n",
    "    figsize=[10, 6],\n",
    "    color='skyblue'\n",
    ")\n",
    "\n",
    "plt.show()\n"
   ]
  },
  {
   "cell_type": "markdown",
   "id": "11270eed",
   "metadata": {
    "id": "11270eed"
   },
   "source": [
    "Con base en este gráfico, podemos observar que el número de pedidos varía a lo largo del día. Hay un aumento significativo durante las horas del día, con un pico alrededor de las 10 de la mañana. Luego, hay una disminución gradual hasta la medianoche. Este patrón puede indicar momentos específicos del día en los que los usuarios tienden a realizar más pedidos."
   ]
  },
  {
   "cell_type": "markdown",
   "id": "documented-command",
   "metadata": {
    "id": "documented-command"
   },
   "source": [
    "### [A3] ¿Qué día de la semana compran víveres las personas?"
   ]
  },
  {
   "cell_type": "code",
   "execution_count": 122,
   "id": "chief-digit",
   "metadata": {
    "id": "chief-digit"
   },
   "outputs": [
    {
     "data": {
      "image/png": "[encoded data removed]",
      "text/plain": [
       "<Figure size 720x432 with 1 Axes>"
      ]
     },
     "metadata": {
      "needs_background": "light"
     },
     "output_type": "display_data"
    }
   ],
   "source": [
    "# Mapeo de números de día de la semana a nombres de días\n",
    "dias_semana = {0: 'Domingo', 1: 'Lunes', 2: 'Martes', 3: 'Miércoles', 4: 'Jueves', 5: 'Viernes', 6: 'Sábado'}\n",
    "\n",
    "# Obtener el conteo de pedidos y ordenar por el índice\n",
    "pedidos_por_dia = df_orders['order_dow'].value_counts().sort_index()\n",
    "\n",
    "# Crear el gráfico de barras\n",
    "pedidos_por_dia.plot(\n",
    "    kind='bar',\n",
    "    title='Número de Pedidos según el Día de la Semana',\n",
    "    xlabel='Día de la Semana',\n",
    "    ylabel='Número de Pedidos',\n",
    "    legend=False,\n",
    "    grid=True,\n",
    "    figsize=[10, 6],\n",
    "    color='salmon'\n",
    ")\n",
    "\n",
    "# Establecer las etiquetas del eje x usando plt.xticks\n",
    "plt.xticks(range(7), [dias_semana[i] for i in range(7)], rotation=45)\n",
    "\n",
    "plt.show()"
   ]
  },
  {
   "cell_type": "markdown",
   "id": "dominant-lightning",
   "metadata": {
    "id": "dominant-lightning"
   },
   "source": [
    "El gráfico muestra la distribución de pedidos a lo largo de la semana. Observamos que hay una variación en el número de pedidos entre los diferentes días. El día más ocupado parece ser el domingo, mientras que el jueves es el día con menos actividad. Este conocimiento puede ser útil para la planificación de recursos y la gestión de inventario."
   ]
  },
  {
   "cell_type": "markdown",
   "id": "cutting-concert",
   "metadata": {
    "id": "cutting-concert"
   },
   "source": [
    "### [A4] ¿Cuánto tiempo esperan las personas hasta hacer otro pedido? Comenta sobre los valores mínimos y máximos."
   ]
  },
  {
   "cell_type": "code",
   "execution_count": 123,
   "id": "c231f523",
   "metadata": {
    "id": "c231f523"
   },
   "outputs": [
    {
     "data": {
      "image/png": "[encoded data removed]",
      "text/plain": [
       "<Figure size 864x432 with 1 Axes>"
      ]
     },
     "metadata": {
      "needs_background": "light"
     },
     "output_type": "display_data"
    }
   ],
   "source": [
    "df_orders['days_since_prior_order'].plot(\n",
    "    kind='hist',\n",
    "    title='Distribución del Tiempo hasta el Siguiente Pedido',\n",
    "    xlabel='Días hasta el Siguiente Pedido',\n",
    "    ylabel='Número de Pedidos',\n",
    "    legend=False,\n",
    "    grid=True,\n",
    "    figsize=[12, 6],\n",
    "    color='lightgreen',\n",
    "    bins=30  # Ajusta el número de barras según sea necesario\n",
    ")\n",
    "\n",
    "plt.xlabel('Días hasta el Siguiente Pedido')  # Agrega la etiqueta del eje X\n",
    "plt.ylabel('Número de Pedidos')  # Agrega la etiqueta del eje Y\n",
    "\n",
    "plt.show()\n"
   ]
  },
  {
   "cell_type": "markdown",
   "id": "discrete-vertex",
   "metadata": {
    "id": "discrete-vertex"
   },
   "source": [
    "Este histograma revela la distribución del tiempo que los usuarios esperan antes de realizar un nuevo pedido. Se puede observar que muchos usuarios tienden a realizar pedidos con frecuencia, ya que hay un pico en el intervalo de 0 a 7 días. Además, hay un segundo grupo de usuarios que esperan alrededor de 30 días entre pedidos. Este análisis puede ser crucial para comprender los patrones de compra y la lealtad del cliente."
   ]
  },
  {
   "cell_type": "markdown",
   "id": "tight-staff",
   "metadata": {
    "id": "tight-staff"
   },
   "source": [
    "# [B] Intermedio (deben completarse todos para aprobar)\n",
    "\n",
    "1. ¿Existe alguna diferencia entre las distribuciones `'order_hour_of_day'` de los miércoles y los sábados? Traza gráficos de barra de `'order_hour_of_day'` para ambos días en la misma figura y describe las diferencias que observes.\n",
    "2. Grafica la distribución para el número de órdenes que hacen los clientes (es decir, cuántos clientes hicieron solo 1 pedido, cuántos hicieron 2, cuántos 3, y así sucesivamente...).\n",
    "3. ¿Cuáles son los 20 principales productos que se piden con más frecuencia (muestra su identificación y nombre)?"
   ]
  },
  {
   "cell_type": "markdown",
   "id": "packed-classic",
   "metadata": {
    "id": "packed-classic"
   },
   "source": [
    "### [B1] Diferencia entre miércoles y sábados para  `'order_hour_of_day'`. Traza gráficos de barra para los dos días y describe las diferencias que veas."
   ]
  },
  {
   "cell_type": "code",
   "execution_count": 124,
   "id": "d89b8403",
   "metadata": {
    "id": "d89b8403"
   },
   "outputs": [
    {
     "data": {
      "image/png": "[encoded data removed]",
      "text/plain": [
       "<Figure size 864x432 with 1 Axes>"
      ]
     },
     "metadata": {
      "needs_background": "light"
     },
     "output_type": "display_data"
    }
   ],
   "source": [
    "# Filtra datos para miércoles y sábados\n",
    "df_wednesday = df_orders[df_orders['order_dow'] == 3]  # 3 representa miércoles\n",
    "df_saturday = df_orders[df_orders['order_dow'] == 6]  # 6 representa sábado\n",
    "\n",
    "# Gráfica de barra para 'order_hour_of_day'\n",
    "ax = df_wednesday['order_hour_of_day'].value_counts().sort_index().plot(\n",
    "    kind='bar',\n",
    "    title='Distribución de \\'order_hour_of_day\\' para Miércoles y Sábado',\n",
    "    xlabel='Hora del Día',\n",
    "    ylabel='Número de Pedidos',\n",
    "    legend=True,\n",
    "    figsize=[12, 6],\n",
    "    color='blue',\n",
    "    alpha=0.7\n",
    ")\n",
    "df_saturday['order_hour_of_day'].value_counts().sort_index().plot(\n",
    "    kind='bar',\n",
    "    color='orange',\n",
    "    legend=True,\n",
    "    alpha=0.7,\n",
    "    ax=ax  # Utiliza el mismo eje para evitar la superposición\n",
    ")\n",
    "\n",
    "# Añade etiquetas a la leyenda\n",
    "ax.legend(['Miércoles', 'Sábado'])\n",
    "\n",
    "plt.show()"
   ]
  },
  {
   "cell_type": "code",
   "execution_count": 125,
   "id": "94e54e8a",
   "metadata": {
    "id": "94e54e8a"
   },
   "outputs": [
    {
     "data": {
      "image/png": "[encoded data removed]",
      "text/plain": [
       "<Figure size 864x432 with 1 Axes>"
      ]
     },
     "metadata": {
      "needs_background": "light"
     },
     "output_type": "display_data"
    }
   ],
   "source": [
    "# Agrupa por producto y cuenta el número de ocurrencias\n",
    "top_products = df_order_products['product_id'].value_counts().head(20)\n",
    "\n",
    "# Obtiene nombres de productos correspondientes\n",
    "top_products_names = df_products[df_products['product_id'].isin(top_products.index)][['product_id', 'product_name']]\n",
    "\n",
    "# Gráfica de barras para los 20 principales productos\n",
    "top_products_names.plot(\n",
    "    x='product_name',\n",
    "    y='product_id',\n",
    "    kind='bar',\n",
    "    title='Top 20 Productos más Pedidos',\n",
    "    xlabel='Nombre del Producto',\n",
    "    ylabel='Número de Pedidos',\n",
    "    legend=False,\n",
    "    figsize=[12, 6],\n",
    "    color='purple',\n",
    "    alpha=0.7\n",
    ")\n",
    "plt.show()"
   ]
  },
  {
   "cell_type": "code",
   "execution_count": 126,
   "id": "797c90a8",
   "metadata": {
    "id": "797c90a8"
   },
   "outputs": [
    {
     "data": {
      "image/png": "[encoded data removed]",
      "text/plain": [
       "<Figure size 864x432 with 1 Axes>"
      ]
     },
     "metadata": {
      "needs_background": "light"
     },
     "output_type": "display_data"
    }
   ],
   "source": [
    "# Número de órdenes por usuario\n",
    "orders_per_user = df_orders.groupby('user_id')['order_number'].count()\n",
    "\n",
    "# Gráfica de barras para la distribución\n",
    "orders_per_user.value_counts().sort_index().plot(\n",
    "    kind='bar',\n",
    "    title='Distribución del Número de Órdenes por Cliente',\n",
    "    xlabel='Número de Órdenes',\n",
    "    ylabel='Número de Clientes',\n",
    "    legend=False,\n",
    "    figsize=[12, 6],\n",
    "    color='green',\n",
    "    alpha=0.7\n",
    ")\n",
    "plt.show()"
   ]
  },
  {
   "cell_type": "markdown",
   "id": "charitable-congo",
   "metadata": {
    "id": "charitable-congo"
   },
   "source": [
    "Escribe aquí tus conclusiones"
   ]
  },
  {
   "cell_type": "markdown",
   "id": "177584a3",
   "metadata": {},
   "source": [
    "Gráfico Distribución de 'order_hour_of_day' para Miércoles y Sábados:\n",
    "Ambas distribuciones muestran picos en ciertas horas del día, pero pueden diferir en términos de magnitud y ubicación. Y aunque las distribuciones para miércoles y sábados se superponen, podría haber diferencias sutiles en la frecuencia de pedidos durante ciertas horas. Sería necesario un análisis más detallado para identificar cualquier patrón significativo.\n",
    "\n",
    "Gráfico de los 20 Principales Productos Pedidos con Más Frecuencia\n",
    "El gráfico presenta los 20 productos más frecuentemente pedidos junto con su identificación y nombre, estos productos son los más populares entre los clientes y pueden ser objetivos clave para estrategias de marketing o gestión de inventario. Analizar estos productos puede proporcionar ideas sobre preferencias y tendencias de compra de los clientes.\n",
    "\n",
    "El gráfico de \"Distribución del Número de Órdenes por Cliente\" revela que la mayoría de los clientes realizan un número limitado de órdenes, sugiriendo un predominio de compradores ocasionales. Sin embargo, existe un segmento reducido de clientes que destacan al realizar un número significativamente mayor de órdenes, indicando una posible base de clientes leales o frecuentes. Este análisis proporciona una visión clara de la variabilidad en los hábitos de compra de los usuarios y puede ser fundamental para la formulación de estrategias comerciales y de retención de clientes."
   ]
  },
  {
   "cell_type": "markdown",
   "id": "e3891143",
   "metadata": {
    "id": "e3891143"
   },
   "source": [
    "### [B2] ¿Cuál es la distribución para el número de pedidos por cliente?"
   ]
  },
  {
   "cell_type": "code",
   "execution_count": 127,
   "id": "d8c26c23",
   "metadata": {
    "id": "d8c26c23"
   },
   "outputs": [
    {
     "data": {
      "image/png": "[encoded data removed]",
      "text/plain": [
       "<Figure size 864x432 with 1 Axes>"
      ]
     },
     "metadata": {
      "needs_background": "light"
     },
     "output_type": "display_data"
    }
   ],
   "source": [
    "# Número de órdenes por usuario\n",
    "orders_per_user = df_orders.groupby('user_id')['order_number'].max()\n",
    "\n",
    "# Gráfica de barras para la distribución\n",
    "orders_per_user.value_counts().sort_index(ascending=True).plot(\n",
    "    kind='bar',\n",
    "    title='Distribución del Número de Órdenes por Cliente',\n",
    "    xlabel='Número de Órdenes',\n",
    "    ylabel='Número de Clientes',\n",
    "    legend=False,\n",
    "    figsize=[12, 6],\n",
    "    color='skyblue',\n",
    "    alpha=0.7\n",
    ")\n",
    "plt.show()\n"
   ]
  },
  {
   "cell_type": "code",
   "execution_count": null,
   "id": "00e69a66",
   "metadata": {
    "id": "00e69a66"
   },
   "outputs": [],
   "source": []
  },
  {
   "cell_type": "markdown",
   "id": "d2eff7d5",
   "metadata": {
    "id": "d2eff7d5"
   },
   "source": [
    "Escribe aquí tus conclusiones"
   ]
  },
  {
   "cell_type": "markdown",
   "id": "3308fd4c",
   "metadata": {},
   "source": [
    "La mayoría de los clientes realizan un número bajo de órdenes, disminuyendo la frecuencia a medida que aumenta el número de órdenes por cliente. Tambien hay una disminución considerable en la frecuencia de clientes que realizan más de 10 órdenes. La mayoría de los clientes están en la categoría de 1 a 10 órdenes.Aunque son menos frecuentes, aún hay clientes que realizaron más de 20 órdenes. Estos clientes podrían ser considerados como clientes leales o frecuentes."
   ]
  },
  {
   "cell_type": "markdown",
   "id": "54a0319c",
   "metadata": {
    "id": "54a0319c"
   },
   "source": [
    "### [B3] ¿Cuáles son los 20 productos más populares (muestra su ID y nombre)?"
   ]
  },
  {
   "cell_type": "code",
   "execution_count": 128,
   "id": "91387087",
   "metadata": {},
   "outputs": [
    {
     "data": {
      "text/html": [
       "<div>\n",
       "<style scoped>\n",
       "    .dataframe tbody tr th:only-of-type {\n",
       "        vertical-align: middle;\n",
       "    }\n",
       "\n",
       "    .dataframe tbody tr th {\n",
       "        vertical-align: top;\n",
       "    }\n",
       "\n",
       "    .dataframe thead th {\n",
       "        text-align: right;\n",
       "    }\n",
       "</style>\n",
       "<table border=\"1\" class=\"dataframe\">\n",
       "  <thead>\n",
       "    <tr style=\"text-align: right;\">\n",
       "      <th></th>\n",
       "      <th>product_id</th>\n",
       "      <th>product_name</th>\n",
       "      <th>frequency</th>\n",
       "    </tr>\n",
       "  </thead>\n",
       "  <tbody>\n",
       "    <tr>\n",
       "      <th>7</th>\n",
       "      <td>24852</td>\n",
       "      <td>BANANA</td>\n",
       "      <td>66050</td>\n",
       "    </tr>\n",
       "    <tr>\n",
       "      <th>2</th>\n",
       "      <td>13176</td>\n",
       "      <td>BAG OF ORGANIC BANANAS</td>\n",
       "      <td>53297</td>\n",
       "    </tr>\n",
       "    <tr>\n",
       "      <th>4</th>\n",
       "      <td>21137</td>\n",
       "      <td>ORGANIC STRAWBERRIES</td>\n",
       "      <td>37039</td>\n",
       "    </tr>\n",
       "    <tr>\n",
       "      <th>5</th>\n",
       "      <td>21903</td>\n",
       "      <td>ORGANIC BABY SPINACH</td>\n",
       "      <td>33971</td>\n",
       "    </tr>\n",
       "    <tr>\n",
       "      <th>16</th>\n",
       "      <td>47209</td>\n",
       "      <td>ORGANIC HASS AVOCADO</td>\n",
       "      <td>29773</td>\n",
       "    </tr>\n",
       "    <tr>\n",
       "      <th>18</th>\n",
       "      <td>47766</td>\n",
       "      <td>ORGANIC AVOCADO</td>\n",
       "      <td>24689</td>\n",
       "    </tr>\n",
       "    <tr>\n",
       "      <th>17</th>\n",
       "      <td>47626</td>\n",
       "      <td>LARGE LEMON</td>\n",
       "      <td>21495</td>\n",
       "    </tr>\n",
       "    <tr>\n",
       "      <th>3</th>\n",
       "      <td>16797</td>\n",
       "      <td>STRAWBERRIES</td>\n",
       "      <td>20018</td>\n",
       "    </tr>\n",
       "    <tr>\n",
       "      <th>9</th>\n",
       "      <td>26209</td>\n",
       "      <td>LIMES</td>\n",
       "      <td>19690</td>\n",
       "    </tr>\n",
       "    <tr>\n",
       "      <th>10</th>\n",
       "      <td>27845</td>\n",
       "      <td>ORGANIC WHOLE MILK</td>\n",
       "      <td>19600</td>\n",
       "    </tr>\n",
       "    <tr>\n",
       "      <th>11</th>\n",
       "      <td>27966</td>\n",
       "      <td>ORGANIC RASPBERRIES</td>\n",
       "      <td>19197</td>\n",
       "    </tr>\n",
       "    <tr>\n",
       "      <th>6</th>\n",
       "      <td>22935</td>\n",
       "      <td>ORGANIC YELLOW ONION</td>\n",
       "      <td>15898</td>\n",
       "    </tr>\n",
       "    <tr>\n",
       "      <th>8</th>\n",
       "      <td>24964</td>\n",
       "      <td>ORGANIC GARLIC</td>\n",
       "      <td>15292</td>\n",
       "    </tr>\n",
       "    <tr>\n",
       "      <th>15</th>\n",
       "      <td>45007</td>\n",
       "      <td>ORGANIC ZUCCHINI</td>\n",
       "      <td>14584</td>\n",
       "    </tr>\n",
       "    <tr>\n",
       "      <th>13</th>\n",
       "      <td>39275</td>\n",
       "      <td>ORGANIC BLUEBERRIES</td>\n",
       "      <td>13879</td>\n",
       "    </tr>\n",
       "    <tr>\n",
       "      <th>19</th>\n",
       "      <td>49683</td>\n",
       "      <td>CUCUMBER KIRBY</td>\n",
       "      <td>13675</td>\n",
       "    </tr>\n",
       "    <tr>\n",
       "      <th>12</th>\n",
       "      <td>28204</td>\n",
       "      <td>ORGANIC FUJI APPLE</td>\n",
       "      <td>12544</td>\n",
       "    </tr>\n",
       "    <tr>\n",
       "      <th>0</th>\n",
       "      <td>5876</td>\n",
       "      <td>ORGANIC LEMON</td>\n",
       "      <td>12232</td>\n",
       "    </tr>\n",
       "    <tr>\n",
       "      <th>1</th>\n",
       "      <td>8277</td>\n",
       "      <td>APPLE HONEYCRISP ORGANIC</td>\n",
       "      <td>11993</td>\n",
       "    </tr>\n",
       "    <tr>\n",
       "      <th>14</th>\n",
       "      <td>40706</td>\n",
       "      <td>ORGANIC GRAPE TOMATOES</td>\n",
       "      <td>11781</td>\n",
       "    </tr>\n",
       "  </tbody>\n",
       "</table>\n",
       "</div>"
      ],
      "text/plain": [
       "    product_id              product_name  frequency\n",
       "7        24852                    BANANA      66050\n",
       "2        13176    BAG OF ORGANIC BANANAS      53297\n",
       "4        21137      ORGANIC STRAWBERRIES      37039\n",
       "5        21903      ORGANIC BABY SPINACH      33971\n",
       "16       47209      ORGANIC HASS AVOCADO      29773\n",
       "18       47766           ORGANIC AVOCADO      24689\n",
       "17       47626               LARGE LEMON      21495\n",
       "3        16797              STRAWBERRIES      20018\n",
       "9        26209                     LIMES      19690\n",
       "10       27845        ORGANIC WHOLE MILK      19600\n",
       "11       27966       ORGANIC RASPBERRIES      19197\n",
       "6        22935      ORGANIC YELLOW ONION      15898\n",
       "8        24964            ORGANIC GARLIC      15292\n",
       "15       45007          ORGANIC ZUCCHINI      14584\n",
       "13       39275       ORGANIC BLUEBERRIES      13879\n",
       "19       49683            CUCUMBER KIRBY      13675\n",
       "12       28204        ORGANIC FUJI APPLE      12544\n",
       "0         5876             ORGANIC LEMON      12232\n",
       "1         8277  APPLE HONEYCRISP ORGANIC      11993\n",
       "14       40706    ORGANIC GRAPE TOMATOES      11781"
      ]
     },
     "metadata": {},
     "output_type": "display_data"
    }
   ],
   "source": [
    "# Calcular la frecuencia de cada producto\n",
    "top_products = df_order_products['product_id'].value_counts().head(20)\n",
    "\n",
    "# Obtener los IDs de los productos más populares\n",
    "top_product_ids = top_products.index\n",
    "\n",
    "# Fusionar df_order_products con df_products para obtener información sobre los productos más populares\n",
    "top_products_info = pd.merge(\n",
    "    df_order_products[df_order_products['product_id'].isin(top_product_ids)],\n",
    "    df_products[['product_id', 'product_name']],\n",
    "    on='product_id',\n",
    "    how='left'\n",
    ")\n",
    "\n",
    "# Utilizar groupby() para obtener información sobre los productos más populares\n",
    "top_products_info = top_products_info.groupby(['product_id', 'product_name']).size().reset_index(name='frequency')\n",
    "\n",
    "# Ordenar el DataFrame por la columna 'frequency' de manera descendente\n",
    "top_products_info = top_products_info.sort_values(by='frequency', ascending=False)\n",
    "\n",
    "# Mostrar los 20 productos más populares con la frecuencia y el nombre\n",
    "display(top_products_info)\n"
   ]
  },
  {
   "cell_type": "code",
   "execution_count": 137,
   "id": "d4b1d4d5",
   "metadata": {},
   "outputs": [
    {
     "data": {
      "image/png": "[encoded data removed]",
      "text/plain": [
       "<Figure size 864x432 with 1 Axes>"
      ]
     },
     "metadata": {
      "needs_background": "light"
     },
     "output_type": "display_data"
    }
   ],
   "source": [
    "# Calcular la frecuencia de cada producto\n",
    "top_products = df_order_products['product_id'].value_counts().head(20)\n",
    "\n",
    "# Obtener los IDs de los productos más populares\n",
    "top_product_ids = top_products.index\n",
    "\n",
    "# Fusionar df_order_products con df_products para obtener información sobre los productos más populares\n",
    "top_products_info = pd.merge(\n",
    "    df_order_products[df_order_products['product_id'].isin(top_product_ids)],\n",
    "    df_products[['product_id', 'product_name']],\n",
    "    on='product_id',\n",
    "    how='left'\n",
    ")\n",
    "\n",
    "# Utilizar groupby() para obtener información sobre los productos más populares\n",
    "top_products_info = top_products_info.groupby(['product_id', 'product_name']).size().reset_index(name='frequency')\n",
    "\n",
    "# Ordenar el DataFrame por la columna 'frequency' de manera descendente\n",
    "top_products_info = top_products_info.sort_values(by='frequency', ascending=False)\n",
    "\n",
    "# Graficar los 20 productos más populares con nombres\n",
    "top_products_info.plot(\n",
    "    x='product_name',\n",
    "    y='frequency',\n",
    "    kind='bar',\n",
    "    title='20 Productos Más Populares',\n",
    "    xlabel='Nombre del Producto',\n",
    "    ylabel='Número de Veces Ordenado',\n",
    "    legend=False,\n",
    "    grid=True,\n",
    "    figsize=[12, 6],\n",
    "    color='skyblue'\n",
    ")\n",
    "\n",
    "# Personalizar las etiquetas del eje X\n",
    "plt.xticks(rotation=45, ha='right')\n",
    "\n",
    "# Mostrar el gráfico\n",
    "plt.show()"
   ]
  },
  {
   "cell_type": "markdown",
   "id": "7df00f47",
   "metadata": {
    "id": "7df00f47"
   },
   "source": [
    "Escribe aquí tus conclusiones"
   ]
  },
  {
   "cell_type": "markdown",
   "id": "32dc1f58",
   "metadata": {},
   "source": [
    "Se identificaron los 20 productos más populares y se creó un gráfico de barras que muestra la popularidad de estos productos en términos de la frecuencia con la que fueron ordenados y mostrados, permitiendo leer cuáles son los productos top. \n",
    "Asi mismo, esto nos permite tener una perspectiva más clara sobre la popularidad relativa de los productos, lo cual es fundamental para la toma de decisiones relacionadas con la disponibilidad y promoción de productos en la tienda. La información obtenida puede ser valiosa para ajustar estrategias comerciales, garantizando la satisfacción del cliente y optimizando la oferta de productos en función de la demanda."
   ]
  },
  {
   "cell_type": "markdown",
   "id": "gross-theme",
   "metadata": {
    "id": "gross-theme"
   },
   "source": [
    "# [C] Difícil (deben completarse todos para aprobar)\n",
    "\n",
    "1. ¿Cuántos artículos suelen comprar las personas en un pedido? ¿Cómo es la distribución?\n",
    "2. ¿Cuáles son los 20 principales artículos que vuelven a pedirse con mayor frecuencia (muestra sus nombres e IDs de los productos)?\n",
    "3. Para cada producto, ¿cuál es la tasa de repetición del pedido (número de repeticiones de pedido/total de pedidos?\n",
    "4. Para cada cliente, ¿qué proporción de los productos que pidió ya los había pedido? Calcula la tasa de repetición de pedido para cada usuario en lugar de para cada producto.\n",
    "5. ¿Cuáles son los 20 principales artículos que la gente pone primero en sus carritos (muestra las IDs de los productos, sus nombres, y el número de veces en que fueron el primer artículo en añadirse al carrito)?"
   ]
  },
  {
   "cell_type": "markdown",
   "id": "romantic-deposit",
   "metadata": {
    "id": "romantic-deposit"
   },
   "source": [
    "### [C1] ¿Cuántos artículos compran normalmente las personas en un pedido? ¿Cómo es la distribución?"
   ]
  },
  {
   "cell_type": "code",
   "execution_count": 130,
   "id": "virtual-punch",
   "metadata": {
    "id": "virtual-punch"
   },
   "outputs": [],
   "source": [
    "# Número de artículos por pedido\n",
    "items_per_order = df_order_products.groupby('order_id')['product_id'].count()"
   ]
  },
  {
   "cell_type": "code",
   "execution_count": 131,
   "id": "sensitive-breathing",
   "metadata": {
    "id": "sensitive-breathing"
   },
   "outputs": [
    {
     "data": {
      "image/png": "[encoded data removed]",
      "text/plain": [
       "<Figure size 864x432 with 1 Axes>"
      ]
     },
     "metadata": {
      "needs_background": "light"
     },
     "output_type": "display_data"
    }
   ],
   "source": [
    "# Gráfico de la distribución\n",
    "items_per_order.plot(\n",
    "    kind='hist',\n",
    "    title='Distribución del Número de Artículos por Pedido',\n",
    "    xlabel='Número de Artículos',\n",
    "    ylabel='Número de Pedidos',\n",
    "    legend=False,\n",
    "    grid=True,\n",
    "    figsize=[12, 6],\n",
    "    color='lightcoral',\n",
    "    bins=30\n",
    ")\n",
    "plt.show()"
   ]
  },
  {
   "cell_type": "code",
   "execution_count": null,
   "id": "completed-frank",
   "metadata": {
    "id": "completed-frank"
   },
   "outputs": [],
   "source": []
  },
  {
   "cell_type": "markdown",
   "id": "designed-mortality",
   "metadata": {
    "id": "designed-mortality"
   },
   "source": [
    "Escribe aquí tus conclusiones"
   ]
  },
  {
   "cell_type": "markdown",
   "id": "63ab7f1a",
   "metadata": {},
   "source": [
    "La distribución del número de artículos por pedido muestra que la mayoría de los pedidos contienen un número relativamente pequeño de productos.\n",
    "El gráfico proporciona información sobre la tendencia general en el comportamiento de compra de los clientes."
   ]
  },
  {
   "cell_type": "markdown",
   "id": "5e6b5537",
   "metadata": {
    "id": "5e6b5537"
   },
   "source": [
    "### [C2] ¿Cuáles son los 20 principales artículos que vuelven a pedirse con mayor frecuencia (muestra sus nombres e IDs de los productos)?"
   ]
  },
  {
   "cell_type": "code",
   "execution_count": 132,
   "id": "9374e55a",
   "metadata": {
    "id": "9374e55a"
   },
   "outputs": [
    {
     "name": "stdout",
     "output_type": "stream",
     "text": [
      "Los 20 productos más frecuentemente volvieron a pedirse:\n"
     ]
    },
    {
     "data": {
      "text/html": [
       "<div>\n",
       "<style scoped>\n",
       "    .dataframe tbody tr th:only-of-type {\n",
       "        vertical-align: middle;\n",
       "    }\n",
       "\n",
       "    .dataframe tbody tr th {\n",
       "        vertical-align: top;\n",
       "    }\n",
       "\n",
       "    .dataframe thead th {\n",
       "        text-align: right;\n",
       "    }\n",
       "</style>\n",
       "<table border=\"1\" class=\"dataframe\">\n",
       "  <thead>\n",
       "    <tr style=\"text-align: right;\">\n",
       "      <th></th>\n",
       "      <th>product_id</th>\n",
       "      <th>product_name</th>\n",
       "    </tr>\n",
       "  </thead>\n",
       "  <tbody>\n",
       "    <tr>\n",
       "      <th>5875</th>\n",
       "      <td>5876</td>\n",
       "      <td>ORGANIC LEMON</td>\n",
       "    </tr>\n",
       "    <tr>\n",
       "      <th>8276</th>\n",
       "      <td>8277</td>\n",
       "      <td>APPLE HONEYCRISP ORGANIC</td>\n",
       "    </tr>\n",
       "    <tr>\n",
       "      <th>13175</th>\n",
       "      <td>13176</td>\n",
       "      <td>BAG OF ORGANIC BANANAS</td>\n",
       "    </tr>\n",
       "    <tr>\n",
       "      <th>16796</th>\n",
       "      <td>16797</td>\n",
       "      <td>STRAWBERRIES</td>\n",
       "    </tr>\n",
       "    <tr>\n",
       "      <th>21136</th>\n",
       "      <td>21137</td>\n",
       "      <td>ORGANIC STRAWBERRIES</td>\n",
       "    </tr>\n",
       "    <tr>\n",
       "      <th>21902</th>\n",
       "      <td>21903</td>\n",
       "      <td>ORGANIC BABY SPINACH</td>\n",
       "    </tr>\n",
       "    <tr>\n",
       "      <th>22934</th>\n",
       "      <td>22935</td>\n",
       "      <td>ORGANIC YELLOW ONION</td>\n",
       "    </tr>\n",
       "    <tr>\n",
       "      <th>24851</th>\n",
       "      <td>24852</td>\n",
       "      <td>BANANA</td>\n",
       "    </tr>\n",
       "    <tr>\n",
       "      <th>24963</th>\n",
       "      <td>24964</td>\n",
       "      <td>ORGANIC GARLIC</td>\n",
       "    </tr>\n",
       "    <tr>\n",
       "      <th>26208</th>\n",
       "      <td>26209</td>\n",
       "      <td>LIMES</td>\n",
       "    </tr>\n",
       "    <tr>\n",
       "      <th>27844</th>\n",
       "      <td>27845</td>\n",
       "      <td>ORGANIC WHOLE MILK</td>\n",
       "    </tr>\n",
       "    <tr>\n",
       "      <th>27965</th>\n",
       "      <td>27966</td>\n",
       "      <td>ORGANIC RASPBERRIES</td>\n",
       "    </tr>\n",
       "    <tr>\n",
       "      <th>28203</th>\n",
       "      <td>28204</td>\n",
       "      <td>ORGANIC FUJI APPLE</td>\n",
       "    </tr>\n",
       "    <tr>\n",
       "      <th>39274</th>\n",
       "      <td>39275</td>\n",
       "      <td>ORGANIC BLUEBERRIES</td>\n",
       "    </tr>\n",
       "    <tr>\n",
       "      <th>45006</th>\n",
       "      <td>45007</td>\n",
       "      <td>ORGANIC ZUCCHINI</td>\n",
       "    </tr>\n",
       "    <tr>\n",
       "      <th>47208</th>\n",
       "      <td>47209</td>\n",
       "      <td>ORGANIC HASS AVOCADO</td>\n",
       "    </tr>\n",
       "    <tr>\n",
       "      <th>47625</th>\n",
       "      <td>47626</td>\n",
       "      <td>LARGE LEMON</td>\n",
       "    </tr>\n",
       "    <tr>\n",
       "      <th>47765</th>\n",
       "      <td>47766</td>\n",
       "      <td>ORGANIC AVOCADO</td>\n",
       "    </tr>\n",
       "    <tr>\n",
       "      <th>49234</th>\n",
       "      <td>49235</td>\n",
       "      <td>ORGANIC HALF &amp; HALF</td>\n",
       "    </tr>\n",
       "    <tr>\n",
       "      <th>49682</th>\n",
       "      <td>49683</td>\n",
       "      <td>CUCUMBER KIRBY</td>\n",
       "    </tr>\n",
       "  </tbody>\n",
       "</table>\n",
       "</div>"
      ],
      "text/plain": [
       "       product_id              product_name\n",
       "5875         5876             ORGANIC LEMON\n",
       "8276         8277  APPLE HONEYCRISP ORGANIC\n",
       "13175       13176    BAG OF ORGANIC BANANAS\n",
       "16796       16797              STRAWBERRIES\n",
       "21136       21137      ORGANIC STRAWBERRIES\n",
       "21902       21903      ORGANIC BABY SPINACH\n",
       "22934       22935      ORGANIC YELLOW ONION\n",
       "24851       24852                    BANANA\n",
       "24963       24964            ORGANIC GARLIC\n",
       "26208       26209                     LIMES\n",
       "27844       27845        ORGANIC WHOLE MILK\n",
       "27965       27966       ORGANIC RASPBERRIES\n",
       "28203       28204        ORGANIC FUJI APPLE\n",
       "39274       39275       ORGANIC BLUEBERRIES\n",
       "45006       45007          ORGANIC ZUCCHINI\n",
       "47208       47209      ORGANIC HASS AVOCADO\n",
       "47625       47626               LARGE LEMON\n",
       "47765       47766           ORGANIC AVOCADO\n",
       "49234       49235       ORGANIC HALF & HALF\n",
       "49682       49683            CUCUMBER KIRBY"
      ]
     },
     "metadata": {},
     "output_type": "display_data"
    }
   ],
   "source": [
    "# Obtener los 20 productos más frecuentemente volvieron a pedirse\n",
    "top_reordered_products = df_order_products[df_order_products['reordered'] == 1]['product_id'].value_counts().head(20)\n",
    "top_reordered_products_info = df_products[df_products['product_id'].isin(top_reordered_products.index)][['product_id', 'product_name']]\n",
    "\n",
    "# Mostrar la información de los 20 productos más frecuentemente volvieron a pedirse\n",
    "print(\"Los 20 productos más frecuentemente volvieron a pedirse:\")\n",
    "display(top_reordered_products_info)"
   ]
  },
  {
   "cell_type": "markdown",
   "id": "80e70c74",
   "metadata": {
    "id": "80e70c74"
   },
   "source": [
    "Escribe aquí tus conclusiones"
   ]
  },
  {
   "cell_type": "markdown",
   "id": "cd7c682c",
   "metadata": {},
   "source": [
    "Se identificaron los 20 productos que se vuelven a pedir con mayor frecuencia junto con su ID y nombre.Los más comúnmente agregados primero al carrito revelan una preferencia por artículos esenciales y saludables. Algunos de los productos incluyen:\n",
    "\n",
    "Soda: Un artículo popular y básico en las compras.\n",
    "Leche Orgánica Reducida en Grasa 2%: La preferencia por productos orgánicos y opciones más saludables es evidente.\n",
    "Aguacates Hass: Un artículo versátil y saludable que se utiliza en diversas preparaciones.\n",
    "Bolsa de Plátanos Orgánicos: Los plátanos son una elección común y versátil.\n",
    "Fresas y Frambuesas Orgánicas: Preferencia por frutas frescas y orgánicas.\n",
    "Agua Mineral: La necesidad de hidratación es evidente en la preferencia por el agua.\n",
    "Los productos iniciales en el carrito revelan preferencias significativas de los clientes, destacando elecciones saludables y esenciales. Esta información puede ser valiosa para desarrollar estrategias de marketing, optimizar la colocación de productos y diseñar promociones específicas en la plataforma de compras en línea. Además, entender la lealtad de los clientes a ciertos productos específicos puede influir en estrategias de marketing y en la gestión del inventario para satisfacer mejor las demandas y expectativas de los clientes."
   ]
  },
  {
   "cell_type": "markdown",
   "id": "9d312b14",
   "metadata": {
    "id": "9d312b14"
   },
   "source": [
    "### [C3] Para cada producto, ¿cuál es la proporción de las veces que se pide y que se vuelve a pedir?"
   ]
  },
  {
   "cell_type": "code",
   "execution_count": 133,
   "id": "8ae9f4b1",
   "metadata": {
    "id": "8ae9f4b1"
   },
   "outputs": [
    {
     "name": "stdout",
     "output_type": "stream",
     "text": [
      "Tasa de repetición de pedido para cada producto:\n",
      "product_id\n",
      "1        0.564286\n",
      "2        0.000000\n",
      "3        0.738095\n",
      "4        0.510204\n",
      "7        0.500000\n",
      "           ...   \n",
      "49690    0.800000\n",
      "49691    0.430556\n",
      "49692    0.416667\n",
      "49693    0.440000\n",
      "49694    0.333333\n",
      "Name: reordered, Length: 45573, dtype: float64\n"
     ]
    }
   ],
   "source": [
    "# Calcular la tasa de repetición de pedido para cada producto\n",
    "reorder_rates = df_order_products.groupby('product_id')['reordered'].mean()\n",
    "\n",
    "# Mostrar la tasa de repetición para cada producto\n",
    "print(\"Tasa de repetición de pedido para cada producto:\")\n",
    "print(reorder_rates)"
   ]
  },
  {
   "cell_type": "markdown",
   "id": "I10dEIAyldcO",
   "metadata": {
    "id": "I10dEIAyldcO"
   },
   "source": [
    "La tasa de repetición de pedido para cada producto proporciona información valiosa sobre la preferencia y lealtad de los clientes hacia esos productos específicos. En este conjunto de datos, se observa una variación significativa en las tasas de repetición, indicando que algunos productos son más propensos a ser comprados de nuevo que otros. Aquellos productos cuya tasa  es cercanas a 1.0 son altamente preferidos y recurrentes en los pedidos de los clientes, lo cual sugiere una fuerte lealtad. Por otro lado, productos con tasas más cercanas a 0.0 son menos populares o comprados de manera más esporádica.\n",
    "\n",
    "Este análisis puede ser valioso para estrategias de marketing y gestión de inventario. Los productos con altas tasas de repetición podrían ser destacados en promociones o recibir un enfoque especial en campañas publicitarias para fomentar su compra continua. Asi como los productos con bajas tasas pueden ser objeto de revisión para comprender mejor las razones detrás de su menor recurrencia y tomar medidas para mejorar su atractivo o disponibilidad."
   ]
  },
  {
   "cell_type": "markdown",
   "id": "subject-boxing",
   "metadata": {
    "id": "subject-boxing"
   },
   "source": [
    "### [C4] Para cada cliente, ¿qué proporción de sus productos ya los había pedido?"
   ]
  },
  {
   "cell_type": "code",
   "execution_count": 134,
   "id": "medical-couple",
   "metadata": {
    "id": "medical-couple",
    "scrolled": true
   },
   "outputs": [
    {
     "name": "stdout",
     "output_type": "stream",
     "text": [
      "Index(['order_id', 'product_id', 'add_to_cart_order', 'reordered'], dtype='object')\n"
     ]
    }
   ],
   "source": [
    "print(df_order_products.columns)"
   ]
  },
  {
   "cell_type": "code",
   "execution_count": 135,
   "id": "8892e4b4",
   "metadata": {
    "id": "8892e4b4"
   },
   "outputs": [
    {
     "name": "stdout",
     "output_type": "stream",
     "text": [
      "Tasa de repetición de pedido para cada cliente:\n",
      "user_id\n",
      "2         0.038462\n",
      "4         0.000000\n",
      "5         0.666667\n",
      "6         0.000000\n",
      "7         0.928571\n",
      "            ...   \n",
      "206203    0.222222\n",
      "206206    0.714286\n",
      "206207    0.891304\n",
      "206208    0.696000\n",
      "206209    0.320000\n",
      "Name: reordered, Length: 149626, dtype: float64\n"
     ]
    }
   ],
   "source": [
    "# Unir df_orders y df_order_products en la columna 'order_id'\n",
    "merged_df = pd.merge(df_orders, df_order_products, on='order_id')\n",
    "\n",
    "# Calcular la tasa de repetición de pedido para cada cliente\n",
    "user_reorder_rates = merged_df.groupby('user_id')['reordered'].mean()\n",
    "\n",
    "# Mostrar la tasa de repetición para cada cliente\n",
    "print(\"Tasa de repetición de pedido para cada cliente:\")\n",
    "print(user_reorder_rates)"
   ]
  },
  {
   "cell_type": "markdown",
   "id": "BgJSvXDsleXz",
   "metadata": {
    "id": "BgJSvXDsleXz"
   },
   "source": [
    "Los datos nos indican que hay variedad de comportamientos, ya que hay clientes con tasas de repetición cercanas a 0, sugiriendo que no vuelven a pedir los mismos productos con frecuencia. Y también, hay clientes con tasas cercanas a 1, lo que nos indica que vuelven a pedir muchos de los mismos productos.\n",
    "\n",
    "Aquellos clientes con tasas de repetición cercanas a 1 podrían considerarse clientes leales que tienden a comprar los mismos productos una y otra vez, mientras que los clientes menos leales o con tasas más bajas podrían estar buscando variedad en sus compras y no tienden a repetir pedidos con frecuencia.\n",
    "\n",
    "Esta información puede ser útil para estrategias de marketing y personalización de ofertas para diferentes tipos de clientes."
   ]
  },
  {
   "cell_type": "markdown",
   "id": "92d35137",
   "metadata": {
    "id": "92d35137"
   },
   "source": [
    "### [C5] ¿Cuáles son los 20 principales artículos que las personas ponen primero en sus carritos?"
   ]
  },
  {
   "cell_type": "code",
   "execution_count": 136,
   "id": "0ae57274",
   "metadata": {
    "id": "0ae57274",
    "scrolled": true
   },
   "outputs": [
    {
     "name": "stdout",
     "output_type": "stream",
     "text": [
      "Los 20 productos más comúnmente agregados primero al carrito:\n"
     ]
    },
    {
     "data": {
      "text/html": [
       "<div>\n",
       "<style scoped>\n",
       "    .dataframe tbody tr th:only-of-type {\n",
       "        vertical-align: middle;\n",
       "    }\n",
       "\n",
       "    .dataframe tbody tr th {\n",
       "        vertical-align: top;\n",
       "    }\n",
       "\n",
       "    .dataframe thead th {\n",
       "        text-align: right;\n",
       "    }\n",
       "</style>\n",
       "<table border=\"1\" class=\"dataframe\">\n",
       "  <thead>\n",
       "    <tr style=\"text-align: right;\">\n",
       "      <th></th>\n",
       "      <th>product_id</th>\n",
       "      <th>product_name</th>\n",
       "    </tr>\n",
       "  </thead>\n",
       "  <tbody>\n",
       "    <tr>\n",
       "      <th>195</th>\n",
       "      <td>196</td>\n",
       "      <td>SODA</td>\n",
       "    </tr>\n",
       "    <tr>\n",
       "      <th>5784</th>\n",
       "      <td>5785</td>\n",
       "      <td>ORGANIC REDUCED FAT 2% MILK</td>\n",
       "    </tr>\n",
       "    <tr>\n",
       "      <th>12340</th>\n",
       "      <td>12341</td>\n",
       "      <td>HASS AVOCADOS</td>\n",
       "    </tr>\n",
       "    <tr>\n",
       "      <th>13175</th>\n",
       "      <td>13176</td>\n",
       "      <td>BAG OF ORGANIC BANANAS</td>\n",
       "    </tr>\n",
       "    <tr>\n",
       "      <th>16796</th>\n",
       "      <td>16797</td>\n",
       "      <td>STRAWBERRIES</td>\n",
       "    </tr>\n",
       "    <tr>\n",
       "      <th>19659</th>\n",
       "      <td>19660</td>\n",
       "      <td>SPRING WATER</td>\n",
       "    </tr>\n",
       "    <tr>\n",
       "      <th>21136</th>\n",
       "      <td>21137</td>\n",
       "      <td>ORGANIC STRAWBERRIES</td>\n",
       "    </tr>\n",
       "    <tr>\n",
       "      <th>21902</th>\n",
       "      <td>21903</td>\n",
       "      <td>ORGANIC BABY SPINACH</td>\n",
       "    </tr>\n",
       "    <tr>\n",
       "      <th>22934</th>\n",
       "      <td>22935</td>\n",
       "      <td>ORGANIC YELLOW ONION</td>\n",
       "    </tr>\n",
       "    <tr>\n",
       "      <th>24851</th>\n",
       "      <td>24852</td>\n",
       "      <td>BANANA</td>\n",
       "    </tr>\n",
       "    <tr>\n",
       "      <th>26208</th>\n",
       "      <td>26209</td>\n",
       "      <td>LIMES</td>\n",
       "    </tr>\n",
       "    <tr>\n",
       "      <th>27085</th>\n",
       "      <td>27086</td>\n",
       "      <td>HALF &amp; HALF</td>\n",
       "    </tr>\n",
       "    <tr>\n",
       "      <th>27844</th>\n",
       "      <td>27845</td>\n",
       "      <td>ORGANIC WHOLE MILK</td>\n",
       "    </tr>\n",
       "    <tr>\n",
       "      <th>27965</th>\n",
       "      <td>27966</td>\n",
       "      <td>ORGANIC RASPBERRIES</td>\n",
       "    </tr>\n",
       "    <tr>\n",
       "      <th>38688</th>\n",
       "      <td>38689</td>\n",
       "      <td>ORGANIC REDUCED FAT MILK</td>\n",
       "    </tr>\n",
       "    <tr>\n",
       "      <th>44631</th>\n",
       "      <td>44632</td>\n",
       "      <td>SPARKLING WATER GRAPEFRUIT</td>\n",
       "    </tr>\n",
       "    <tr>\n",
       "      <th>47208</th>\n",
       "      <td>47209</td>\n",
       "      <td>ORGANIC HASS AVOCADO</td>\n",
       "    </tr>\n",
       "    <tr>\n",
       "      <th>47625</th>\n",
       "      <td>47626</td>\n",
       "      <td>LARGE LEMON</td>\n",
       "    </tr>\n",
       "    <tr>\n",
       "      <th>47765</th>\n",
       "      <td>47766</td>\n",
       "      <td>ORGANIC AVOCADO</td>\n",
       "    </tr>\n",
       "    <tr>\n",
       "      <th>49234</th>\n",
       "      <td>49235</td>\n",
       "      <td>ORGANIC HALF &amp; HALF</td>\n",
       "    </tr>\n",
       "  </tbody>\n",
       "</table>\n",
       "</div>"
      ],
      "text/plain": [
       "       product_id                 product_name\n",
       "195           196                         SODA\n",
       "5784         5785  ORGANIC REDUCED FAT 2% MILK\n",
       "12340       12341                HASS AVOCADOS\n",
       "13175       13176       BAG OF ORGANIC BANANAS\n",
       "16796       16797                 STRAWBERRIES\n",
       "19659       19660                 SPRING WATER\n",
       "21136       21137         ORGANIC STRAWBERRIES\n",
       "21902       21903         ORGANIC BABY SPINACH\n",
       "22934       22935         ORGANIC YELLOW ONION\n",
       "24851       24852                       BANANA\n",
       "26208       26209                        LIMES\n",
       "27085       27086                  HALF & HALF\n",
       "27844       27845           ORGANIC WHOLE MILK\n",
       "27965       27966          ORGANIC RASPBERRIES\n",
       "38688       38689     ORGANIC REDUCED FAT MILK\n",
       "44631       44632   SPARKLING WATER GRAPEFRUIT\n",
       "47208       47209         ORGANIC HASS AVOCADO\n",
       "47625       47626                  LARGE LEMON\n",
       "47765       47766              ORGANIC AVOCADO\n",
       "49234       49235          ORGANIC HALF & HALF"
      ]
     },
     "metadata": {},
     "output_type": "display_data"
    }
   ],
   "source": [
    "# Obtener los 20 productos más comúnmente agregados primero al carrito\n",
    "top_first_cart_products = df_order_products[df_order_products['add_to_cart_order'] == 1]['product_id'].value_counts().head(20)\n",
    "top_first_cart_products_info = df_products[df_products['product_id'].isin(top_first_cart_products.index)][['product_id', 'product_name']]\n",
    "\n",
    "# Mostrar la información de los 20 productos más comúnmente agregados primero al carrito\n",
    "print(\"Los 20 productos más comúnmente agregados primero al carrito:\")\n",
    "display(top_first_cart_products_info)"
   ]
  },
  {
   "cell_type": "markdown",
   "id": "28ce9872",
   "metadata": {
    "id": "28ce9872"
   },
   "source": [
    "Los 20 productos más comúnmente agregados primero al carrito reflejan elecciones populares y esenciales para los clientes. La presencia de artículos como soda, leche, aguacates, plátanos orgánicos y fresas sugiere que los clientes tienden a priorizar productos básicos y saludables al iniciar sus compras.\n",
    "\n",
    "Esta información puede ser valiosa para estrategias de marketing y disposición de productos en la plataforma en línea. Destacar estos productos al principio de la lista de búsqueda o durante promociones puede aumentar su visibilidad y probablemente impulse sus ventas. Además, comprender cuáles son los productos más solicitados inicialmente puede ayudar en la planificación de inventario y en la creación de estrategias para mejorar la experiencia de compra del cliente."
   ]
  },
  {
   "cell_type": "markdown",
   "id": "uITbFCEoDosC",
   "metadata": {
    "id": "uITbFCEoDosC"
   },
   "source": [
    "### Conclusion general del proyecto:"
   ]
  },
  {
   "cell_type": "markdown",
   "id": "57f8fd9d",
   "metadata": {
    "id": "Nk-4GS7mDwqY"
   },
   "source": [
    "En este proyecto de análisis de datos sobre compras en línea, abordamos diversas tareas de preprocesamiento y exploración de datos, centrándonos especialmente en tres conjuntos de datos clave: 'orders', 'order_products', y 'products'.\n",
    "\n",
    "En el proceso de preprocesamiento, identificamos y gestionamos valores faltantes y duplicados de manera efectiva. En 'Orders', descubrimos que los valores nulos en 'days_since_prior_order' correspondían al primer pedido de un cliente, abordando este aspecto de manera específica. En 'Order_Products', manejamos los valores ausentes en 'add_to_cart_order' asignándoles el valor 999 y ajustando la columna para que tuviera sentido en números enteros. Este proceso de preparación de datos fue crucial para garantizar una base sólida antes de adentrarnos en el análisis.\n",
    "\n",
    "Durante la fase de análisis de datos, exploramos patrones de compra a través de gráficos, centrándonos en la distribución de la hora del día y el día de la semana en que los clientes realizan pedidos. Verificamos que los valores en 'order_hour_of_day' y 'order_dow' estuvieran alineados con la lógica temporal, confirmando así la calidad de nuestros datos. Descubrimos que la mayoría de los pedidos se realizan durante el día, con un pico alrededor del mediodía, y que los días de la semana no mostraban fluctuaciones significativas. Al explorar el tiempo que los clientes esperan hasta su próximo pedido, observamos un patrón con un pico alrededor de los 7 días, indicando una frecuencia de compra constante para muchos clientes.\n",
    "\n",
    "En las conclusiones finales, destacamos la importancia de comprender los patrones de compra y la lealtad del cliente. La información recopilada no solo guía decisiones estratégicas en marketing y gestión de inventario, sino que también proporciona una clara visión para mejorar la experiencia del usuario en la plataforma de comercio electrónico. La adaptación continua a las necesidades y preferencias de los clientes emerge como clave para el éxito en el competitivo mundo del comercio en línea. Fue un proceso muy interesante aplicar los conocimientos adquiridos a situaciones reales, y enfrentar los retos del análisis de datos contribuyó significativamente al aprendizaje y la aplicación práctica de las habilidades adquiridas."
   ]
  }
 ],
 "metadata": {
  "colab": {
   "provenance": []
  },
  "kernelspec": {
   "display_name": "Python 3 (ipykernel)",
   "language": "python",
   "name": "python3"
  },
  "language_info": {
   "codemirror_mode": {
    "name": "ipython",
    "version": 3
   },
   "file_extension": ".py",
   "mimetype": "text/x-python",
   "name": "python",
   "nbconvert_exporter": "python",
   "pygments_lexer": "ipython3",
   "version": "3.9.5"
  },
  "toc": {
   "base_numbering": 1,
   "nav_menu": {},
   "number_sections": true,
   "sideBar": true,
   "skip_h1_title": true,
   "title_cell": "Table of Contents",
   "title_sidebar": "Contents",
   "toc_cell": false,
   "toc_position": {
    "height": "calc(100% - 180px)",
    "left": "10px",
    "top": "150px",
    "width": "410.66px"
   },
   "toc_section_display": true,
   "toc_window_display": true
  },
  "vscode": {
   "interpreter": {
    "hash": "01a7be9ec63e704a62cefc5fe7a4756944464ee731be31632bdf42a4cb4688cf"
   }
  }
 },
 "nbformat": 4,
 "nbformat_minor": 5
}
